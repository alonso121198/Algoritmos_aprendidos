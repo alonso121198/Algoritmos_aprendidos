{
 "cells": [
  {
   "cell_type": "code",
   "execution_count": 1,
   "metadata": {},
   "outputs": [
    {
     "data": {
      "text/html": [
       "<style>.container { width:100% !important; }</style>"
      ],
      "text/plain": [
       "<IPython.core.display.HTML object>"
      ]
     },
     "metadata": {},
     "output_type": "display_data"
    }
   ],
   "source": [
    "from IPython.core.display import display, HTML\n",
    "display(HTML(\"<style>.container { width:100% !important; }</style>\"))"
   ]
  },
  {
   "cell_type": "code",
   "execution_count": 2,
   "metadata": {},
   "outputs": [],
   "source": [
    "import numpy as np\n",
    "import matplotlib.pyplot as plt"
   ]
  },
  {
   "cell_type": "markdown",
   "metadata": {},
   "source": [
    "# Aca implementare el metodo del trapezoide con espacio uniforme "
   ]
  },
  {
   "cell_type": "markdown",
   "metadata": {},
   "source": [
    "<img src=\"trapezoid(Nouniform).png\">\n",
    "<img src=\"trapezoid(uniform).png\">"
   ]
  },
  {
   "cell_type": "code",
   "execution_count": 3,
   "metadata": {},
   "outputs": [],
   "source": [
    "# Metodo del trapecio para uniforme y no uniforme puntos\n",
    "def trapezoid(funcion=None,inf=None,sup=None,n=1,uniform=True,data=None):\n",
    "    '''\n",
    "    - funcion = funcion a integrar\n",
    "    - inf , sup = son los limites a integrar \n",
    "    - n = el numero intervalos \n",
    "    - uniform = True si los intervalos estan igualmente espaciados , False si es lo contrario\n",
    "    - en el caso de uniform == False , debera pasarse la data donde esta los puntos para hacer el metodo de trapecio\n",
    "    - Suponemos que la data esta ordenada como deberia para la integracion\n",
    "    '''\n",
    "       \n",
    "    # en el caso que tengamos una distribucion uniforme\n",
    "    if uniform == True:\n",
    "        h = (sup-inf)/n\n",
    "        suma = 1/2*(funcion(inf)+funcion(sup))\n",
    "        \n",
    "        # tiene que ser de 1-n y no n-1 debido a como recorre el for (limitacion de python)\n",
    "        # y ademas ya que no estamos trabajando con listas sino con los indices realmente\n",
    "        for i in range(1,n):\n",
    "            x = inf + i*h\n",
    "            suma = suma + funcion(x)\n",
    "        suma = suma * h \n",
    "    \n",
    "    # en caso no tenga distribucion uniforme\n",
    "    else : \n",
    "        n = data.shape[1] # con esto consigo cuantos eelemntos tiene mi data\n",
    "        \n",
    "        # comenzamos la suma \n",
    "        # como ahora si trabajamos con listas(array) ahora si debo poner n-1\n",
    "        suma = 0\n",
    "        for j in range(0,n-1):\n",
    "            suma = suma + 1/2*(data[0,j+1]-data[0,j])*(data[1,j]+data[1,j+1])  \n",
    "    \n",
    "    return suma    "
   ]
  },
  {
   "cell_type": "code",
   "execution_count": 4,
   "metadata": {
    "scrolled": true
   },
   "outputs": [
    {
     "data": {
      "text/plain": [
       "(0.7468071011991205, 0.9450810000000001)"
      ]
     },
     "execution_count": 4,
     "metadata": {},
     "output_type": "execute_result"
    }
   ],
   "source": [
    "# Probemos nuestro metodo si funciona\n",
    "def funcionprob(x):\n",
    "    return np.float64(np.e**(-x**2))\n",
    "\n",
    "# armamos la data ejemplo\n",
    "x1 = [0.0,0.2,0.4,0.6,0.8,1.0]\n",
    "x2 = [1.0,0.99335,0.97355,0.94107,0.89670,0.84147]\n",
    "dataprueba = np.array([x1,x2],dtype=np.float64)\n",
    "\n",
    "valor1 = trapezoid(funcion=funcionprob,inf=0,sup=1,n=60,uniform=True)\n",
    "valor2 = trapezoid(uniform=False,data=dataprueba)\n",
    "valor1,valor2"
   ]
  },
  {
   "cell_type": "markdown",
   "metadata": {},
   "source": [
    "# Aca implementare el metodo de la regla de simpson's 1/3"
   ]
  },
  {
   "cell_type": "markdown",
   "metadata": {},
   "source": [
    "<img src=\"simpson.png\">"
   ]
  },
  {
   "cell_type": "code",
   "execution_count": 5,
   "metadata": {},
   "outputs": [],
   "source": [
    "# definire el metodo de simpsom 1/3\n",
    "\n",
    "def simpson_1_3(funcion=None,inf=None,sup=None,n=1):\n",
    "    '''\n",
    "    # funcion = funcion que se hara el metodo\n",
    "    # inf , sup = limites de integracion\n",
    "    # n = numero de intervalor que seran divididos para que ( n puede ser par o impar \"OJO\")\n",
    "    # en cada intervalo se haga el metodo de regla de simpso's  \n",
    "    '''\n",
    "    # al final lo que se intercala es 2*n itervalos iguales\n",
    "    n = 2*n # esto lo hago con fines de clarificar el codigo\n",
    "    h = (sup-inf)/n # si no hubiera hecho lo de arriba aca seria 2n en vez de n  \n",
    "    suma = (funcion(inf)+funcion(sup))\n",
    "    # yo se que n es divisible siempre por 2 por las lineas de codigo arriba\n",
    "    suma1 = 0\n",
    "    for i in range(1,int(n/2+1) ):\n",
    "        x = inf + (2*i-1)*h\n",
    "        suma1 = suma1 + funcion(x)\n",
    "    \n",
    "    suma2 = 0\n",
    "    for i in range(1,int((n-2)/2 + 1) ):\n",
    "        x = inf + (2*i*h)\n",
    "        suma2 = suma2 + funcion(x)\n",
    "    \n",
    "    suma = h/3*(suma + 4*suma1 + 2*suma2)\n",
    "    \n",
    "    return suma"
   ]
  },
  {
   "cell_type": "code",
   "execution_count": 6,
   "metadata": {},
   "outputs": [
    {
     "data": {
      "text/plain": [
       "0.20778906451292053"
      ]
     },
     "execution_count": 6,
     "metadata": {},
     "output_type": "execute_result"
    }
   ],
   "source": [
    "# veamos si funcion mi metodo de simpson 1/3\n",
    "def funcionprob2(x):\n",
    "    return np.float64(np.cos(2*x)/np.e**(x))\n",
    "\n",
    "valor = simpson_1_3(funcion=funcionprob2,inf=0,sup=5/4*np.pi,n=10)\n",
    "valor"
   ]
  },
  {
   "cell_type": "markdown",
   "metadata": {},
   "source": [
    "# Aca implementare el metodo compuesto de la regla de simpson 3/8"
   ]
  },
  {
   "cell_type": "code",
   "execution_count": 7,
   "metadata": {},
   "outputs": [],
   "source": [
    "# definire el metodo de simpsom 3/8 es igual al de 1/3\n",
    "def simpson_3_8(funcion=None,inf=None,sup=None,n=1):\n",
    "    '''\n",
    "    # funcion = funcion que se hara el metodo\n",
    "    # inf , sup = limites de integracion\n",
    "    # n = numero de intervalor que seran divididos para que ( n puede ser multiipo de 3 o no \"OJO\")\n",
    "    # en cada intervalo se haga el metodo de regla de simpso's  \n",
    "    '''\n",
    "    # al final lo que se intercala es 3*n itervalos iguales\n",
    "    n = 3*n # esto lo hago con fines de clarificar el codigo\n",
    "    h = (sup-inf)/n # si no hubiera hecho lo de arriba aca seria 3n en vez de n  \n",
    "    suma = (funcion(inf)+funcion(sup))\n",
    "    # yo se que n es divisible siempre por 2 por las lineas de codigo arriba\n",
    "    suma1 = 0\n",
    "    for i in range(1,n):\n",
    "        x = inf + i*h\n",
    "        if i % 3 == 0:\n",
    "            continue # sigue el for peor no completa esta iteracion\n",
    "        suma1 = suma1 + funcion(x)\n",
    "    \n",
    "    suma2 = 0\n",
    "    for i in range(1,int(n/3)):\n",
    "        x = inf + (3*i*h)\n",
    "        suma2 = suma2 + funcion(x)\n",
    "    \n",
    "    suma = 3*h/8*(suma + 3*suma1 + 2*suma2)\n",
    "    \n",
    "    return suma"
   ]
  },
  {
   "cell_type": "code",
   "execution_count": 8,
   "metadata": {},
   "outputs": [
    {
     "data": {
      "text/plain": [
       "2.0003822420892665"
      ]
     },
     "execution_count": 8,
     "metadata": {},
     "output_type": "execute_result"
    }
   ],
   "source": [
    "# veamos si funcion mi metodo de simpson 3/8\n",
    "def funcionprob2(x):\n",
    "    return np.float64(np.sin(x))\n",
    "\n",
    "valor = simpson_3_8(funcion=funcionprob2,inf=0,sup=np.pi,n=3)\n",
    "valor"
   ]
  },
  {
   "cell_type": "markdown",
   "metadata": {},
   "source": [
    "# Aca implementare la extrapolacion de Richardson"
   ]
  },
  {
   "cell_type": "markdown",
   "metadata": {},
   "source": [
    "<img src=\"richardson.png\">"
   ]
  },
  {
   "cell_type": "code",
   "execution_count": 9,
   "metadata": {},
   "outputs": [],
   "source": [
    "# aca implementare richardson\n",
    "# recuerda que esto solo funciona con el trapecio compuesto\n",
    "# por ahora pienso que int2 > int1 ( pregunta pendiente )\n",
    "def richardson(int1,h1,int2,h2):\n",
    "    return int2 + (1/( (h1/h2)**2-1))*(int2-int1)"
   ]
  },
  {
   "cell_type": "markdown",
   "metadata": {},
   "source": [
    "# Ejercicio 1"
   ]
  },
  {
   "cell_type": "code",
   "execution_count": 13,
   "metadata": {},
   "outputs": [
    {
     "name": "stdout",
     "output_type": "stream",
     "text": [
      "//////////////// Pregunta 1 DE INTEGRACION NUMERICA I/////////////////////\n",
      "El valor de la integral analiticamente es :1104.0\n",
      "----------------------------------------------------------------------------------------------------\n",
      "El valor de la integral con regla de trapecio n=1 es 5280.0\n",
      "----------------------------------------------------------------------------------------------------\n",
      "El valor de la integral con regla de trapecio n=2 es 2634.0\n",
      "----------------------------------------------------------------------------------------------------\n",
      "El valor de la integral con regla de trapecio n=4 es 1516.875\n",
      "----------------------------------------------------------------------------------------------------\n",
      "El valor de la integral con regla de simpson 1/3 es 1752.0\n",
      "----------------------------------------------------------------------------------------------------\n",
      "El valor de la integral con regla de simpson 3/8 es 1392.0\n",
      "----------------------------------------------------------------------------------------------------\n"
     ]
    },
    {
     "data": {
      "image/png": "[encoded data removed]",
      "text/plain": [
       "<Figure size 432x288 with 1 Axes>"
      ]
     },
     "metadata": {
      "needs_background": "light"
     },
     "output_type": "display_data"
    }
   ],
   "source": [
    "print(\"//////////////// Pregunta 1 DE INTEGRACION NUMERICA I/////////////////////\")\n",
    "# definimos la funcion\n",
    "def funcionprob1(x):\n",
    "    return 1-x-4*x**3+2*x**5\n",
    "\n",
    "# graficamos para tener una idea de lo que estamos integrando\n",
    "rango = np.linspace(-2,4,100)\n",
    "plt.plot(rango,funcionprob1(rango))\n",
    "plt.title(\"Funcion de la pregunta 1 a itegrar\")\n",
    "plt.grid(True)\n",
    "\n",
    "### analiticamente integramos la funcion de -2 a 4\n",
    "valor1 = 4-(-2)\n",
    "valor2 = -1/2*(4**2-(-2)**2)\n",
    "valor3 = -4/4*(4**4-(-2)**4)\n",
    "valor4 = 2/6*(4**6-(-2)**6)\n",
    "valor_integral = valor1 + valor2 + valor3 + valor4 \n",
    "print(f'El valor de la integral analiticamente es :{valor_integral}')\n",
    "print(\"-\"*100)\n",
    "\n",
    "# Usando la regla del trapecio para n=1,2,4\n",
    "int1 = trapezoid(funcion=funcionprob1,inf=-2,sup=4,n=1,uniform=True)\n",
    "int2 = trapezoid(funcion=funcionprob1,inf=-2,sup=4,n=2,uniform=True)\n",
    "int3 = trapezoid(funcion=funcionprob1,inf=-2,sup=4,n=4,uniform=True)\n",
    "\n",
    "print(f\"El valor de la integral con regla de trapecio n=1 es {int1}\")\n",
    "print(\"-\"*100)\n",
    "print(f\"El valor de la integral con regla de trapecio n=2 es {int2}\")\n",
    "print(\"-\"*100)\n",
    "print(f\"El valor de la integral con regla de trapecio n=4 es {int3}\")\n",
    "print(\"-\"*100)\n",
    "\n",
    "# Usando la regla de simpson 1/3\n",
    "int4 = simpson_1_3(funcion=funcionprob1,inf=-2,sup=4,n=1)\n",
    "print(f\"El valor de la integral con regla de simpson 1/3 es {int4}\")\n",
    "print(\"-\"*100)\n",
    "# Usando la regla de simpon 1/8\n",
    "int5 = simpson_3_8(funcion=funcionprob1,inf=-2,sup=4,n=1)\n",
    "print(f\"El valor de la integral con regla de simpson 3/8 es {int5}\")\n",
    "print(\"-\"*100)\n",
    "\n",
    "plt.show()"
   ]
  },
  {
   "cell_type": "markdown",
   "metadata": {},
   "source": [
    "# Ejercicio 2"
   ]
  },
  {
   "cell_type": "code",
   "execution_count": 11,
   "metadata": {},
   "outputs": [
    {
     "name": "stdout",
     "output_type": "stream",
     "text": [
      "//////////////// Pregunta 2 DE INTEGRACION NUMERICA I///////////////////\n",
      "El valor de la integral con regla de trapecio compuesta en la data es:  60.125\n"
     ]
    }
   ],
   "source": [
    "print(\"//////////////// Pregunta 2 DE INTEGRACION NUMERICA I///////////////////\")\n",
    "# armamos la data ejemplo\n",
    "x1 = [1,2,3.25,4.5,6,7,8,8.5,9,10]\n",
    "x2 = [5,6,5.5,7,8.5,8,6,7,7,5]\n",
    "dataprueba = np.array([x1,x2],dtype=np.float64)\n",
    "\n",
    "int1 = trapezoid(uniform=False,data=dataprueba)\n",
    "print(f\"El valor de la integral con regla de trapecio compuesta en la data es:  {int1}\")"
   ]
  },
  {
   "cell_type": "markdown",
   "metadata": {},
   "source": [
    "# Ejercicio 3"
   ]
  },
  {
   "cell_type": "code",
   "execution_count": 12,
   "metadata": {},
   "outputs": [
    {
     "name": "stdout",
     "output_type": "stream",
     "text": [
      "///////////////// pregunta 3 DE INTEGRACION NUMERICA I/////////////////////\n",
      "El valor de la integral analiticamente es : \n",
      " 1.6405333333333374\n",
      "----------------------------------------------------------------------------------------------------\n",
      "El valor de la integral con regla de trapecio n=2 es : \n",
      " 1.0688000000000115\n",
      "----------------------------------------------------------------------------------------------------\n",
      "El valor de la integral con regla de trapecio n=3 es : \n",
      " 1.3695736625514496\n",
      "----------------------------------------------------------------------------------------------------\n",
      "El valor de la integral con regla de trapecio n=5 es : \n",
      " 1.539880960000013\n",
      "----------------------------------------------------------------------------------------------------\n",
      "Usando richardosn con 2 puntos y 3 puntos es \n",
      " 1.6101925925926002\n",
      "----------------------------------------------------------------------------------------------------\n",
      "Usando richardosn con 3 puntos y 5 puntos es \n",
      " 1.6356788148148298\n",
      "----------------------------------------------------------------------------------------------------\n",
      "Usando richardosn con 2 puntos y 5 puntos es \n",
      " 1.6356788148148298\n"
     ]
    },
    {
     "data": {
      "image/png": "[encoded data removed]",
      "text/plain": [
       "<Figure size 432x288 with 1 Axes>"
      ]
     },
     "metadata": {
      "needs_background": "light"
     },
     "output_type": "display_data"
    }
   ],
   "source": [
    "print(\"///////////////// pregunta 3 DE INTEGRACION NUMERICA I/////////////////////\")\n",
    "def funcionprob3(x):\n",
    "    return np.float64(0.2+25*x-200*x**2+675*x**3-900*x**4+400*x**5)\n",
    "# graficamos \n",
    "\n",
    "lim_inf = 0\n",
    "lim_sup = 0.8\n",
    "\n",
    "rango = np.linspace(lim_inf,lim_sup,100)\n",
    "plt.plot(rango,funcionprob3(rango))\n",
    "plt.title(\"Funcion a integrar en la pregunta 3\")\n",
    "plt.grid(True)\n",
    "\n",
    "# analiticamente\n",
    "valor0 = 0.2*(lim_sup**1-lim_inf**1)\n",
    "valor1 = 25/2*(lim_sup**2-lim_inf**2)\n",
    "valor2 = -200/3*(lim_sup**3-lim_inf**3)\n",
    "valor3 = 675/4*(lim_sup**4-lim_inf**4)\n",
    "valor4 = -900/5*(lim_sup**5-lim_inf**5)\n",
    "valor5 = 400/6*(lim_sup**6-lim_inf**6)\n",
    "valor_integral = valor0+ valor1 + valor2 + valor3 + valor4 +valor5 \n",
    "print(f'El valor de la integral analiticamente es : \\n {valor_integral}') \n",
    "print(\"-\"*100)\n",
    "\n",
    "# resolvemos \n",
    "inte_2puntos = trapezoid(funcion=funcionprob3,inf=lim_inf,sup=lim_sup,n=2,uniform=True)\n",
    "inte_3puntos = trapezoid(funcion=funcionprob3,inf=lim_inf,sup=lim_sup,n=3,uniform=True)\n",
    "inte_5puntos = trapezoid(funcion=funcionprob3,inf=lim_inf,sup=lim_sup,n=5,uniform=True)\n",
    "print(f\"El valor de la integral con regla de trapecio n=2 es : \\n {inte_2puntos}\")\n",
    "print(\"-\"*100)\n",
    "print(f\"El valor de la integral con regla de trapecio n=3 es : \\n {inte_3puntos}\")\n",
    "print(\"-\"*100)\n",
    "print(f\"El valor de la integral con regla de trapecio n=5 es : \\n {inte_5puntos}\")\n",
    "print(\"-\"*100)\n",
    "\n",
    "# mejoramos con la extrapolacion de richardson\n",
    "\n",
    "inte_aproximado1 = richardson(int1=inte_2puntos,h1=(lim_sup-lim_inf)/2,\n",
    "                              int2=inte_3puntos,h2=(lim_sup-lim_inf)/3)\n",
    "print(f'Usando richardosn con 2 puntos y 3 puntos es \\n {inte_aproximado1}')\n",
    "print(\"-\"*100)\n",
    "inte_aproximado2 = richardson(int1=inte_3puntos,h1=(lim_sup-lim_inf)/3,\n",
    "                              int2=inte_5puntos,h2=(lim_sup-lim_inf)/5)\n",
    "print(f'Usando richardosn con 3 puntos y 5 puntos es \\n {inte_aproximado2}')\n",
    "print(\"-\"*100)\n",
    "inte_aproximado3 = richardson(int1=inte_3puntos,h1=(lim_sup-lim_inf)/3,\n",
    "                              int2=inte_5puntos,h2=(lim_sup-lim_inf)/5)\n",
    "print(f'Usando richardosn con 2 puntos y 5 puntos es \\n {inte_aproximado3}')\n",
    "\n",
    "plt.show()"
   ]
  }
 ],
 "metadata": {
  "kernelspec": {
   "display_name": "Python 3",
   "language": "python",
   "name": "python3"
  },
  "language_info": {
   "codemirror_mode": {
    "name": "ipython",
    "version": 3
   },
   "file_extension": ".py",
   "mimetype": "text/x-python",
   "name": "python",
   "nbconvert_exporter": "python",
   "pygments_lexer": "ipython3",
   "version": "3.7.6"
  }
 },
 "nbformat": 4,
 "nbformat_minor": 4
}
