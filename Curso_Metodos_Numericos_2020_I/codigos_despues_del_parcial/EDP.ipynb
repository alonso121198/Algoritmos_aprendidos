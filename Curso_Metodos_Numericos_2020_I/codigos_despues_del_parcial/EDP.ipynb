{
 "cells": [
  {
   "cell_type": "code",
   "execution_count": 1,
   "metadata": {},
   "outputs": [],
   "source": [
    "import numpy as np\n",
    "import matplotlib.pyplot as plt"
   ]
  },
  {
   "cell_type": "markdown",
   "metadata": {},
   "source": [
    "# Aca implementare EDP elipticas "
   ]
  },
  {
   "cell_type": "markdown",
   "metadata": {},
   "source": [
    "<img src=\"eliptica1.png\">"
   ]
  },
  {
   "cell_type": "markdown",
   "metadata": {},
   "source": [
    "<img src=\"eliptica2.png\">"
   ]
  },
  {
   "cell_type": "markdown",
   "metadata": {},
   "source": [
    "<img src=\"eliptica3.png\">"
   ]
  },
  {
   "cell_type": "code",
   "execution_count": 2,
   "metadata": {},
   "outputs": [],
   "source": [
    "# este es para eliptica pero con condiciones de contorno de dirichlet\n",
    "# queda pendiente para las condiciones de newman\n",
    "def elipticasEDP(ax0=0,ay0=0,nx=10,my=10,h=1,itmax=100,g=None,f=None,limcondi=None):\n",
    "    '''\n",
    "    Se resuelve la EDP :  laplaciano(u)  + f * u = g \n",
    "    Para eso llenamos la matriz u[i,j]  , para luego procedemos a refinarla usando metodo de gauss-seidel \n",
    "    Esta funcion recibe como parametros lo siguiente : \n",
    "    - ax0 , ay0 = son el borde superior izquierdo de la matriz . Seria como el u[0,0]\n",
    "    - nx = seria el punto n-esimo de la division horizontal de la malla \n",
    "    - my = seria el punto m-esimo de la division vertical de la malla\n",
    "    - h = seria el valor de paso , tanto para el eje \"x\" y \"y\" \n",
    "    - itmax = es el numero de iteracion para el metodo de gauss seidel\n",
    "    - g,f = funciones de dos variable correspondientes al problema \n",
    "    - limcondi = son las condiciones de contorno que se conoce\n",
    "    Lo que devuelve esta funcion la matriz \"u\" que resuelve el problema\n",
    "    '''\n",
    "    # reservamos espacio para una matriz de (my+1)*(nx+1)\n",
    "    u = np.ndarray( shape=(my+1,nx+1), dtype = np.float64 )  \n",
    "    ## llenamos los limites de los contornos . \n",
    "    for j in range(0,my+1):\n",
    "        y = ay0 + j*h\n",
    "        u[0,j] = limcondi(ax0,y) # parte izquierda \n",
    "        u[nx,j] = limcondi(ax0 + nx*h,y) # parte derecha \n",
    "    for i in range(0,nx+1):\n",
    "        x = ax0 + i*h\n",
    "        u[i,0] = limcondi(x,ay0) # parte inferior\n",
    "        u[i,my] = limcondi(x,ay0 + my*h) # parte superior \n",
    "        \n",
    "    for j in range(1,my):\n",
    "        y = ay0 + j*h\n",
    "        for i in range(1,nx):\n",
    "            x = ax0 + i*h\n",
    "            u[i,j] = 1 # con esta condicion iniciamos , luego refinamos    \n",
    "    # refinamos la malla con gauss seidel  \n",
    "    for k in range(0,itmax):\n",
    "        for j in range(1,my):\n",
    "            y = ay0 + j*h\n",
    "            for i in range(1,nx):\n",
    "                x = ax0 + i*h\n",
    "                # aplicando metodo de gauss seidel \n",
    "                v = u[i+1,j] + u[i-1,j] + u[i,j+1] + u[i,j-1]\n",
    "                # g(x,y) no se pasa como argumentos ya que estan definidas como variable global \n",
    "                u[i,j] = (v-h**2*g(x,y)) / (4-h**2*f(x,y))\n",
    "    \n",
    "    return u\n",
    "        "
   ]
  },
  {
   "cell_type": "code",
   "execution_count": 3,
   "metadata": {
    "scrolled": true
   },
   "outputs": [
    {
     "data": {
      "text/plain": [
       "array([[2.        , 2.00031252, 2.00125026, 2.00281382, 2.00500417,\n",
       "        2.00782268, 2.01127111, 2.01535162, 2.02006676],\n",
       "       [2.00031252, 2.00062234, 2.00155817, 2.00312077, 2.00531112,\n",
       "        2.00813046, 2.0115803 , 2.01566249, 2.02037927],\n",
       "       [2.00125026, 2.00155817, 2.00249264, 2.00405457, 2.00624493,\n",
       "        2.00906485, 2.01251568, 2.01659906, 2.02131702],\n",
       "       [2.00281382, 2.00312077, 2.00405457, 2.00561616, 2.00780652,\n",
       "        2.01062674, 2.01407806, 2.01816203, 2.02288057],\n",
       "       [2.00500417, 2.00531112, 2.00624493, 2.00780652, 2.00999689,\n",
       "        2.01281711, 2.01626843, 2.02035239, 2.02507092],\n",
       "       [2.00782268, 2.00813046, 2.00906485, 2.01062674, 2.01281711,\n",
       "        2.01563707, 2.01908796, 2.02317141, 2.02788943],\n",
       "       [2.01127111, 2.0115803 , 2.01251568, 2.01407806, 2.01626843,\n",
       "        2.01908796, 2.02253813, 2.02662071, 2.03133787],\n",
       "       [2.01535162, 2.01566249, 2.01659906, 2.01816203, 2.02035239,\n",
       "        2.02317141, 2.02662071, 2.03070224, 2.03541837],\n",
       "       [2.02006676, 2.02037927, 2.02131702, 2.02288057, 2.02507092,\n",
       "        2.02788943, 2.03133787, 2.03541837, 2.04013351]])"
      ]
     },
     "execution_count": 3,
     "metadata": {},
     "output_type": "execute_result"
    }
   ],
   "source": [
    "# implementemos un ejemplo para comprobar si nuestra funcion , funciona \n",
    "'''\n",
    "El problema a resolver es laplaciano(u) + (-1/25)*u = 0 en un cuadrado unidad\n",
    "donde las condiciones de contorno es u = q \n",
    "q = cosh(1/5x) + cosh(1/5*y)\n",
    "\n",
    "Entonces tenemos \n",
    "f = -1/25\n",
    "g = 0 \n",
    "ax0 = ay0 = 0\n",
    "h = 1/8 \n",
    "nx =  8\n",
    "my = 8 \n",
    "itmax = 75\n",
    "limcondi= cosh(1/5x) + cosh(1/5*y)\n",
    "'''\n",
    "def contorno(x,y):\n",
    "    return np.float64( np.cosh(1/5*x) + np.cosh(1/5*y) )\n",
    "    \n",
    "    \n",
    "def fprob(x,y):\n",
    "    return np.float64(-1/25)\n",
    "\n",
    "def gprob(x,y):\n",
    "    return 0\n",
    "\n",
    "matriz = elipticasEDP(ax0=0,ay0=0,nx=8,my=8,h=1/8,itmax=75,f=fprob,g=gprob,limcondi=contorno)\n",
    "matriz # la matriz aparecera de la foorma que tu no la quieres , aparecera invertida "
   ]
  },
  {
   "cell_type": "markdown",
   "metadata": {},
   "source": [
    "# Resolvemos el siguiente problema\n",
    "<img src=\"eliptica4.png\">"
   ]
  },
  {
   "cell_type": "markdown",
   "metadata": {},
   "source": [
    "# Resolvemos el problema pero pensando que aislado es T=0 "
   ]
  },
  {
   "cell_type": "code",
   "execution_count": 4,
   "metadata": {
    "scrolled": false
   },
   "outputs": [
    {
     "data": {
      "image/png": "[encoded data removed]",
      "text/plain": [
       "<Figure size 432x432 with 2 Axes>"
      ]
     },
     "metadata": {
      "needs_background": "light"
     },
     "output_type": "display_data"
    }
   ],
   "source": [
    "'''\n",
    "El problema a resolver es laplaciano(u) = 0 en un cuadrado unidad\n",
    "donde las condiciones de contorno son las indicadas en la imagen\n",
    "\n",
    "Entonces tenemos \n",
    "f = 0\n",
    "g = 0 \n",
    "ax0 = ay0 = 0\n",
    "h = 0.25\n",
    "nx =  4\n",
    "my = 4\n",
    "itmax = 75\n",
    "'''\n",
    "def contorno(x,y):\n",
    "    if x==0 or y==0:\n",
    "        resultado = 0\n",
    "    else:\n",
    "        if x==1:\n",
    "            resultado = 100*y\n",
    "        elif y == 1:\n",
    "            resultado = 100*x\n",
    "        else:\n",
    "            resultado = 0             \n",
    "    return resultado\n",
    "         \n",
    "def fprob(x,y):\n",
    "    return 0\n",
    "\n",
    "def gprob(x,y):\n",
    "    return 0\n",
    "\n",
    "matriz = elipticasEDP(ax0=0,ay0=0,nx=20,my=20,h=1/20,itmax=300,f=fprob,g=gprob,limcondi=contorno)\n",
    "matriz # te aparecera de una forma diferente al que ves \n",
    "# invertimos \n",
    "matriz = matriz.T[::-1]# mapa de clalor\n",
    "plt.figure(figsize=(6,6))\n",
    "plt.imshow(matriz, cmap='hot', interpolation='nearest')\n",
    "plt.colorbar()\n",
    "plt.show()"
   ]
  },
  {
   "cell_type": "markdown",
   "metadata": {},
   "source": [
    "# Ahora si resolvemos el problema con las condiciones de newman"
   ]
  },
  {
   "cell_type": "code",
   "execution_count": 26,
   "metadata": {},
   "outputs": [
    {
     "data": {
      "image/png": "[encoded data removed]",
      "text/plain": [
       "<Figure size 504x504 with 2 Axes>"
      ]
     },
     "metadata": {
      "needs_background": "light"
     },
     "output_type": "display_data"
    }
   ],
   "source": [
    "# este es para eliptica pero con condiciones de contorno de dirichlet derecha y arriba , newman -> abajo ,izquierda\n",
    "# Esta funcion es elipticas con una ligera modificacion\n",
    "def elipticasEDP_mod(ax0=0,ay0=0,nx=10,my=10,h=1,itmax=100,g=None,f=None,limcondi=None):\n",
    "    '''\n",
    "    Se resuelve la EDP :  laplaciano(u)  + f * u = g \n",
    "    Para eso llenamos la matriz u[i,j]  , para luego procedemos a refinarla usando metodo de gauss-seidel \n",
    "    Esta funcion recibe como parametros lo siguiente : \n",
    "    - ax0 , ay0 = son el borde superior izquierdo de la matriz . Seria como el u[0,0]\n",
    "    - nx = seria el punto n-esimo de la division horizontal de la malla \n",
    "    - my = seria el punto m-esimo de la division vertical de la malla\n",
    "    - h = seria el valor de paso , tanto para el eje \"x\" y \"y\" \n",
    "    - itmax = es el numero de iteracion para el metodo de gauss seidel\n",
    "    - g,f = funciones de dos variable correspondientes al problema \n",
    "    - limcondi = son las condiciones de contorno que se conoce\n",
    "    Lo que devuelve esta funcion la matriz \"u\" que resuelve el problema\n",
    "    '''\n",
    "    # reservamos espacio para una matriz de (my+1)*(nx+1)\n",
    "    u = np.ndarray( shape=(my+1,nx+1), dtype = np.float64 )  \n",
    "    ## llenamos los limites de los contornos . \n",
    "    for j in range(0,my+1):\n",
    "        y = ay0 + j*h\n",
    "        u[0,j] = 1 # parte izquierda /// esta parte sera reemplazada con condiciones de newman\n",
    "        u[nx,j] = limcondi(ax0 + nx*h,y) # parte derecha \n",
    "    for i in range(0,nx):\n",
    "        x = ax0 + i*h\n",
    "        u[i,0] = 1 # parte inferior /// esta parte sera reemplazad con condiciones de newman\n",
    "        u[i,my] = limcondi(x,ay0 + my*h) # parte superior \n",
    "        \n",
    "    for j in range(1,my):\n",
    "        y = ay0 + j*h\n",
    "        for i in range(1,nx):\n",
    "            x = ax0 + i*h\n",
    "            u[i,j] = 1 # con esta condicion iniciamos , luego refinamos  \n",
    "    \n",
    "    # refinamos la malla con gauss seidel  \n",
    "    for k in range(0,itmax):\n",
    "        for j in range(0,my):\n",
    "            y = ay0 + j*h\n",
    "            for i in range(0,nx):\n",
    "                x = ax0 + i*h\n",
    "                if i == 0 or j==0 :\n",
    "                    if i == 0 and j==0:\n",
    "                        v = u[i+1,j] + u[i+1,j] + u[i,j+1] + u[i,j+1]\n",
    "                    elif i == 0 and j != 0:\n",
    "                        v = u[i+1,j] + u[i+1,j] + u[i,j+1] + u[i,j-1]\n",
    "                    elif i != 0 and j == 0:\n",
    "                        v = u[i+1,j] + u[i-1,j] + u[i,j+1] + u[i,j+1]\n",
    "                        \n",
    "                else:\n",
    "                    # aplicando metodo de gauss seidel \n",
    "                    v = u[i+1,j] + u[i-1,j] + u[i,j+1] + u[i,j-1]\n",
    "                # g(x,y) no se pasa como argumentos ya que estan definidas como variable global \n",
    "                u[i,j] = (v-h**2*g(x,y)) / (4-h**2*f(x,y))\n",
    "    return u\n",
    "\n",
    "\n",
    "# resolvemos el problema\n",
    "'''\n",
    "El problema a resolver es laplaciano(u) = 0 en un cuadrado unidad\n",
    "donde las condiciones de contorno son las indicadas en la imagen\n",
    "\n",
    "Entonces tenemos \n",
    "f = 0\n",
    "g = 0 \n",
    "ax0 = ay0 = 0\n",
    "h = 0.25\n",
    "nx =  4\n",
    "my = 4\n",
    "itmax = 75\n",
    "'''\n",
    "def contorno(x,y):\n",
    "    if x==0 or y==0:\n",
    "        resultado = 0\n",
    "    else:\n",
    "        if x==1:\n",
    "            resultado = 100*y\n",
    "        elif y == 1:\n",
    "            resultado = 100*x\n",
    "        else:\n",
    "            resultado = 0             \n",
    "    return resultado\n",
    "         \n",
    "def fprob(x,y):\n",
    "    return 0\n",
    "\n",
    "def gprob(x,y):\n",
    "    return 0\n",
    "# estudia mas !!!!\n",
    "matriz = elipticasEDP_mod(ax0=0,ay0=0,nx=50,my=50,h=1/50,itmax=900,f=fprob,g=gprob,limcondi=contorno)\n",
    "matriz # te aparecera de una forma diferente al que ves \n",
    "# invertimos \n",
    "matriz = matriz.T[::-1]# mapa de clalor\n",
    "plt.figure(figsize=(7,7))\n",
    "plt.imshow(matriz, cmap='hot', interpolation='nearest')\n",
    "plt.colorbar()\n",
    "plt.show()\n",
    "        "
   ]
  },
  {
   "cell_type": "markdown",
   "metadata": {},
   "source": [
    "# Problema 2 de la PC"
   ]
  },
  {
   "cell_type": "code",
   "execution_count": 6,
   "metadata": {},
   "outputs": [
    {
     "data": {
      "image/png": "[encoded data removed]",
      "text/plain": [
       "<Figure size 432x288 with 2 Axes>"
      ]
     },
     "metadata": {
      "needs_background": "light"
     },
     "output_type": "display_data"
    }
   ],
   "source": [
    "# haremos del problema de la PC \n",
    "'''\n",
    "El problema a resolver es laplaciano(u) = -\\rho/epsilon en un cuadrado unidad\n",
    "donde las condiciones de contorno son las indicadas en la imagen\n",
    "\n",
    "Entonces tenemos \n",
    "f = 0\n",
    "g =  177,08 × 10−12Cos(3πx)Sin(2πy)\n",
    "ax0 = ay0 = 0\n",
    "h = 0.25\n",
    "nx =  4\n",
    "my = 4\n",
    "itmax = 75\n",
    "'''\n",
    "lamda1 = 1\n",
    "lamda2 = 1\n",
    "def contorno(x,y):\n",
    "    if x==0 :\n",
    "        resultado = lamda1*y**2\n",
    "    elif x==1:\n",
    "        resultado = 1\n",
    "    elif y==0:\n",
    "        resultado = lamda2*x**3\n",
    "    elif y==1:\n",
    "        resultado = 1\n",
    "    return resultado\n",
    "\n",
    "         \n",
    "def fprob(x,y):\n",
    "    return 0\n",
    "\n",
    "def gprob(x,y):\n",
    "    epsilon = 8.854\n",
    "    return np.float64(-177.08/epsilon*np.cos(3*np.pi*x)*np.sin(2*np.pi*y))\n",
    "\n",
    "matriz = elipticasEDP(ax0=0,ay0=0,nx=4,my=4,h=1/4,itmax=100,f=fprob,g=gprob,limcondi=contorno)\n",
    "matriz # te aparecera de una forma diferente al que ves \n",
    "matriz = matriz.T[::-1]# mapa de clalor\n",
    "matriz\n",
    "plt.imshow(matriz, cmap='hot', interpolation='nearest')\n",
    "plt.colorbar()\n",
    "plt.show()"
   ]
  },
  {
   "cell_type": "markdown",
   "metadata": {},
   "source": [
    "# Aca implementare EDP parabolicas"
   ]
  },
  {
   "cell_type": "code",
   "execution_count": 7,
   "metadata": {},
   "outputs": [],
   "source": [
    "# demostrare que puedo simular lo siguiente para hacer la simulacion de calor"
   ]
  },
  {
   "cell_type": "markdown",
   "metadata": {},
   "source": [
    "### FTCS scheme [aqui](https://en.wikipedia.org/wiki/FTCS_scheme)\n",
    "<img src=\"parabolica1.png\">\n",
    "<img src=\"parabolica3.png\">"
   ]
  },
  {
   "cell_type": "code",
   "execution_count": 8,
   "metadata": {},
   "outputs": [],
   "source": [
    "# funcion para el FTCS metodo \n",
    "def parabolicFTCS(k=0,h=0,f=None,x1=0,gx1=0,x2=1,gx2=0,t0=0,gt0=0,tfinal=100):\n",
    "    '''\n",
    "    Esta funcion resuelve problemas de una dimension de la forma diff2x_u + f(x)*diff1x_u = difft_u\n",
    "    Para eso te pide los siguientes argumentos \n",
    "    - k = cantidad paso temporal \n",
    "    - h = cantidad de paso espacial\n",
    "    - f = funcion de una variable \"x\" en la ecuacion diferencial\n",
    "    - x1 = extremo izquierdo espacial\n",
    "    - gx1 = condicion de extremo izquierdo u(x=x1,t) = gx1\n",
    "    - x2 = extremo derecho espacial\n",
    "    - gx2 = condicion de extremo derecho  u(x=x2,t) = gx2\n",
    "    - t0 = tiempo inicial de la simulacion\n",
    "    - gt0 = es la condicion inicial , es decir u(x,t=t0) = gt0\n",
    "    - tfinal = hasta que tiempo final se esta haciendo la simulacion \n",
    "    \n",
    "    Esta funcion retorna un array donde cada columna representa el estado u(x,t=tiempo) en un tiempo especifico\n",
    "    Es decir las filas son como a \"x\" como columna es a \"tiempo\"\n",
    "    \n",
    "    '''\n",
    "    # calculamos cuantas iteraciones vamos a hacer para llegar al tiempo final\n",
    "    pasos_temporal = int((tfinal-t0)/k)\n",
    "    # calculamos el segemnto entre x1 y x2 en cuanto sera dividio\n",
    "    pasos_espacial = int((x2-x1)/h)\n",
    "    \n",
    "    ########## creamos la matriz donde haremos todos los calculos \n",
    "    # el +1 hace la cuenta de la condicion inicial (OJO)\n",
    "    u = np.zeros( shape=(pasos_espacial+1,pasos_temporal+1), dtype = np.float64 ) \n",
    "    \n",
    "    ####### LLenamos las condiciones de contorno\n",
    "    s1 = k/h**2\n",
    "    s2 = k/h\n",
    "    # llenamos la condicion inicial temporal y espacial\n",
    "    for i in range(1,pasos_espacial):\n",
    "        x = x1 + i*h\n",
    "        u[i,0] = gt0(x)\n",
    "\n",
    "    for j in range(0,pasos_temporal+1):\n",
    "        t = t0 + j*k\n",
    "        u[0,j] = gx1(t)\n",
    "        u[pasos_espacial,j] = gx2(t)\n",
    "    \n",
    "    ###### LLenamos todos los tiempos \n",
    "    for j in range(0,pasos_temporal):\n",
    "        t = t0 + j*k\n",
    "        for i in range(1,pasos_espacial):\n",
    "            x = x1 + i*h\n",
    "            u[i,j+1] = (s1+s2/2*f(x))*u[i+1,j] + (1-2*s1)*u[i,j] + (s1-s2/2*f(x))*u[i-1,j]\n",
    "    return u\n",
    "        "
   ]
  },
  {
   "cell_type": "markdown",
   "metadata": {},
   "source": [
    "<img src=\"parabolica2.png\">\n",
    "$$\\huge{ e^{\\left(-\\pi^2\\cdot t\\right)} sin(\\pi\\cdot x) }$$"
   ]
  },
  {
   "cell_type": "code",
   "execution_count": 9,
   "metadata": {},
   "outputs": [
    {
     "data": {
      "text/plain": [
       "array([[0.        , 0.        , 0.        ],\n",
       "       [0.30901699, 0.29389263, 0.2795085 ],\n",
       "       [0.58778525, 0.55901699, 0.53165676],\n",
       "       [0.80901699, 0.76942088, 0.73176275],\n",
       "       [0.95105652, 0.9045085 , 0.8602387 ],\n",
       "       [1.        , 0.95105652, 0.9045085 ],\n",
       "       [0.95105652, 0.9045085 , 0.8602387 ],\n",
       "       [0.80901699, 0.76942088, 0.73176275],\n",
       "       [0.58778525, 0.55901699, 0.53165676],\n",
       "       [0.30901699, 0.29389263, 0.2795085 ],\n",
       "       [0.        , 0.        , 0.        ]])"
      ]
     },
     "execution_count": 9,
     "metadata": {},
     "output_type": "execute_result"
    }
   ],
   "source": [
    "# probemos nuestra funcion\n",
    "# solucion analitica  u = np.e**(-np.pi**2*t) * np.sin(np.pi*x)\n",
    "def fprob(x):\n",
    "    return 0\n",
    "def gx1prob(t):\n",
    "    return 0\n",
    "def gx2prob(t):\n",
    "    return 0\n",
    "\n",
    "def gt0prob(x):\n",
    "    return np.float64(np.sin(np.pi*x))\n",
    "\n",
    "\n",
    "matriz = parabolicFTCS(k=0.005,h=0.1,f=fprob,x1=0,gx1=gx1prob,x2=1,gx2=gx2prob,\n",
    "                      t0=0,gt0=gt0prob,tfinal=0.01)\n",
    "matriz"
   ]
  },
  {
   "cell_type": "code",
   "execution_count": 10,
   "metadata": {},
   "outputs": [
    {
     "data": {
      "text/plain": [
       "array([[0.      , 0.      , 0.      ],\n",
       "       [0.309017, 0.294138, 0.279975],\n",
       "       [0.587785, 0.559483, 0.532544],\n",
       "       [0.809017, 0.770063, 0.732984],\n",
       "       [0.951057, 0.905263, 0.861674],\n",
       "       [1.      , 0.95185 , 0.906018],\n",
       "       [0.951057, 0.905263, 0.861674],\n",
       "       [0.809017, 0.770063, 0.732984],\n",
       "       [0.587785, 0.559483, 0.532544],\n",
       "       [0.309017, 0.294138, 0.279975],\n",
       "       [0.      , 0.      , 0.      ]])"
      ]
     },
     "execution_count": 10,
     "metadata": {},
     "output_type": "execute_result"
    }
   ],
   "source": [
    "def analitico(x,t):\n",
    "    return np.float64(np.e**(-np.pi**2*t) * np.sin(np.pi*x))\n",
    "t0 = 0\n",
    "x1 = 0\n",
    "k = 0.005\n",
    "h = 0.1\n",
    "matrizprueba = np.ndarray( shape=(11,3), dtype = np.float64 ) \n",
    "for j in range(0,3):\n",
    "    t = t0 + j*k\n",
    "    for i in range(0,11):\n",
    "        x = x1 + i*h\n",
    "        matrizprueba[i,j] = analitico(x,t).round(6)\n",
    "matrizprueba"
   ]
  },
  {
   "cell_type": "markdown",
   "metadata": {},
   "source": [
    "# crank-nicholson scheme"
   ]
  },
  {
   "cell_type": "code",
   "execution_count": null,
   "metadata": {},
   "outputs": [],
   "source": []
  },
  {
   "cell_type": "code",
   "execution_count": null,
   "metadata": {},
   "outputs": [],
   "source": []
  },
  {
   "cell_type": "markdown",
   "metadata": {},
   "source": [
    "# full implicit scheme"
   ]
  },
  {
   "cell_type": "code",
   "execution_count": null,
   "metadata": {},
   "outputs": [],
   "source": []
  },
  {
   "cell_type": "code",
   "execution_count": null,
   "metadata": {},
   "outputs": [],
   "source": []
  },
  {
   "cell_type": "markdown",
   "metadata": {},
   "source": [
    "# Dufort-Frankel scheme "
   ]
  },
  {
   "cell_type": "code",
   "execution_count": null,
   "metadata": {},
   "outputs": [],
   "source": []
  },
  {
   "cell_type": "code",
   "execution_count": null,
   "metadata": {},
   "outputs": [],
   "source": []
  },
  {
   "cell_type": "markdown",
   "metadata": {},
   "source": [
    "<img src=\"diferenciar_derecha_izquierda.png\">\n",
    "<img src=\"diferenciar_centro.png\">"
   ]
  },
  {
   "cell_type": "markdown",
   "metadata": {},
   "source": [
    "# simulacion que verifique visualmente mi resultado"
   ]
  },
  {
   "cell_type": "markdown",
   "metadata": {},
   "source": [
    "# Tenemos que resolver el siguiente problema \n",
    "<img src=\"parabolica4.png\">"
   ]
  },
  {
   "cell_type": "code",
   "execution_count": 27,
   "metadata": {},
   "outputs": [
    {
     "data": {
      "text/plain": [
       "(array([-0.40360288,  0.45460783,  0.60762266,  0.69943157,  0.76760713,\n",
       "         0.82063257,  0.86646616,  0.90524843,  0.94050534,  0.97161439,\n",
       "         1.        ]),\n",
       " (201, 11),\n",
       " 0.4999999999999999)"
      ]
     },
     "execution_count": 27,
     "metadata": {},
     "output_type": "execute_result"
    }
   ],
   "source": [
    "%matplotlib inline\n",
    "from ipywidgets import interactive\n",
    "import seaborn as sb\n",
    "# funcion para el FTCS metodo \n",
    "# para resolver el problema se hizo un ligero cambio \n",
    "# para hallar la condicion de extrema derecha que usare \n",
    "def parabolicFTCS_mod(k=0,h=0,f=None,x1=0,gx1=0,x2=1,gx2=0,t0=0,gt0=0,tfinal=100):\n",
    "    '''\n",
    "    Esta funcion resuelve problemas de una dimension de la forma diff2x_u + f(x)*diff1x_u = difft_u\n",
    "    Para eso te pide los siguientes argumentos \n",
    "    - k = cantidad paso temporal \n",
    "    - h = cantidad de paso espacial\n",
    "    - f = funcion de una variable \"x\" en la ecuacion diferencial\n",
    "    - x1 = extremo izquierdo espacial\n",
    "    - gx1 = condicion de extremo izquierdo diff1t_u(x=x1,t) = gx1\n",
    "    - x2 = extremo derecho espacial\n",
    "    - gx2 = condicion de extremo derecho  u(x=x2,t) = gx2\n",
    "    - t0 = tiempo inicial de la simulacion\n",
    "    - gt0 = es la condicion inicial , es decir u(x,t=t0) = gt0\n",
    "    . tfinal = hasta que tiempo final se esta haciendo la simulacion \n",
    "    \n",
    "    //// es bueno aclarar que h , k ,x1 ,x2 ,t0, tfinal deben ser coherente , es decir para que no ocurra cosas raras\n",
    "    //// en hacer los pasos temporales y pasos espaciales \n",
    "    \n",
    "    Esta funcion retorna un array donde cada columna representa el estado u(x,t=tiempo) en un tiempo especifico\n",
    "    Es decir las filas son como a \"x\" como columna es a \"tiempo\"\n",
    "    \n",
    "    '''\n",
    "    # calculamos cuantas iteraciones vamos a hacer para llegar al tiempo final\n",
    "    pasos_temporal = int((tfinal-t0)/k)\n",
    "    # calculamos el segemnto entre x1 y x2 en cuanto sera dividio\n",
    "    pasos_espacial = int((x2-x1)/h)\n",
    "    \n",
    "    ########## creamos la matriz donde haremos todos los calculos \n",
    "    # el +1 hace la cuenta de la condicion inicial (OJO)\n",
    "    u = np.zeros( shape=(pasos_espacial+1,pasos_temporal+1), dtype = np.float64 ) \n",
    "    \n",
    "    ####### LLenamos las condiciones de contorno\n",
    "    s1 = k/h**2\n",
    "    s2 = k/h\n",
    "    u[0,0] = gx1(t0)\n",
    "    # llenamos la condicion inicial temporal y espacial\n",
    "    for i in range(1,pasos_espacial):\n",
    "        x = x1 + i*h\n",
    "        u[i,0] = gt0(x)\n",
    "    for j in range(0,pasos_temporal+1):\n",
    "        t = t0 + j*k\n",
    "        # la modificacion se hizo aca --------- u[0,j] = gx1(t)\n",
    "        u[pasos_espacial,j] = gx2(t)\n",
    "    \n",
    "    ###### LLenamos todos los tiempos \n",
    "    for j in range(0,pasos_temporal):\n",
    "        t = t0 + j*k\n",
    "        for i in range(1,pasos_espacial):\n",
    "            x = x1 + i*h\n",
    "            u[i,j+1] = (s1+s2/2*f(x))*u[i+1,j] + (1-2*s1)*u[i,j] + (s1-s2/2*f(x))*u[i-1,j]\n",
    "        # se agrego lo siguiente , aca se uso un forward de segundo orden \n",
    "        u[0,j] = (2*k*gx1(t) + u[2,j] -4*u[1,j])/3 \n",
    "    return u\n",
    "        \n",
    "\n",
    "# probemos nuestra funcion\n",
    "# solucion analitica  u = np.e**(-np.pi**2*t) * np.sin(np.pi*x)\n",
    "def fprob(x):\n",
    "    return 1/x\n",
    "def gx1prob(t):\n",
    "    return 0\n",
    "def gx2prob(t):\n",
    "    return 1\n",
    "\n",
    "def gt0prob(x):\n",
    "    return 0\n",
    "\n",
    "kprob = 0.005\n",
    "hprob = 0.1\n",
    "pasos_tempo = 200\n",
    "pasos_espaciales_para_el_mapa_de_calor = 100\n",
    "matriz = parabolicFTCS_mod(k=kprob,h=hprob,f=fprob,x1=0,gx1=gx1prob,x2=1,gx2=gx2prob,\n",
    "                      t0=0,gt0=gt0prob,tfinal=kprob*pasos_tempo).T\n",
    "# procedemos a graficar . \n",
    "matriz[100],matriz.shape , kprob/hprob**2"
   ]
  },
  {
   "cell_type": "code",
   "execution_count": null,
   "metadata": {},
   "outputs": [],
   "source": [
    "x = np.linspace(-1,1,pasos_espaciales_para_el_mapa_de_calor)\n",
    "y = np.linspace(-1,1,pasos_espaciales_para_el_mapa_de_calor)\n",
    "\n",
    "x,y = np.meshgrid(x,y)\n",
    "\n",
    "def f(i,x,y,matrix):\n",
    "    radio = np.sqrt(x**2+ y**2)\n",
    "    numeros = np.round(radio/hprob)\n",
    "    for k in range(len(numeros)):\n",
    "        for j in range(len(numeros[k])):\n",
    "            posicion = int(numeros[k,j])\n",
    "            if posicion >= 1/hprob:\n",
    "                radio[k,j] = matrix[i,int(1/hprob)]\n",
    "            else:\n",
    "                radio[k,j] = matrix[i,int(posicion)]\n",
    "                \n",
    "            \n",
    "    return radio\n",
    "\n",
    "def plotting(i=0):\n",
    "    z = f(i,x,y,matriz)\n",
    "    plt.figure(figsize=(9, 7))\n",
    "    # recuerda que estas limitando el vmax , podrias cambiarlo \n",
    "    ax = sb.heatmap(z,xticklabels= 10 ,yticklabels= 10,cmap=\"gist_heat\",vmin=0,vmax=1)\n",
    "    plt.title(f\"Mapa de calor {i*kprob} s\")\n",
    "    ax.invert_yaxis()\n",
    "    \n",
    "\n",
    "interactive_plot = interactive(plotting,i=(0,pasos_tempo,1))\n",
    "interactive_plot"
   ]
  }
 ],
 "metadata": {
  "kernelspec": {
   "display_name": "Python 3",
   "language": "python",
   "name": "python3"
  },
  "language_info": {
   "codemirror_mode": {
    "name": "ipython",
    "version": 3
   },
   "file_extension": ".py",
   "mimetype": "text/x-python",
   "name": "python",
   "nbconvert_exporter": "python",
   "pygments_lexer": "ipython3",
   "version": "3.7.6"
  }
 },
 "nbformat": 4,
 "nbformat_minor": 4
}
