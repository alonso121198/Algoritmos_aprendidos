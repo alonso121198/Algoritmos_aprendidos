{
 "cells": [
  {
   "cell_type": "code",
   "execution_count": 2,
   "metadata": {},
   "outputs": [],
   "source": [
    "import numpy as np\n",
    "import matplotlib.pyplot as plt"
   ]
  },
  {
   "cell_type": "markdown",
   "metadata": {},
   "source": [
    "# Funciones para que funcionen las demas "
   ]
  },
  {
   "cell_type": "code",
   "execution_count": 6,
   "metadata": {},
   "outputs": [],
   "source": [
    "# Funcion de la que me tomo mas tiempo hacerlo \n",
    "def gauss(a,b):\n",
    "    '''Funcion que retorna un array \"x\" despues de hacer una eliminacion de Gauss con pivoteo'''\n",
    "    \n",
    "    n = a.shape[0]\n",
    "    # https://numpy.org/doc/1.18/reference/generated/numpy.ndarray.html\n",
    "    # estamos creando un matriz columna \n",
    "    x = np.ndarray( shape=(n,1), dtype = np.float64 )   \n",
    "    a_copy = a.copy() # con el fin de hacer segumiento a la matriz al final . \n",
    "    s = [] # lista para alojar los valores maximos (es parte del pivoteo)\n",
    "    l = [] # usada para reordenar como se hara la eliminacion\n",
    "    \n",
    "    # #### LLENAMOS LA LISTA \"S\" CON LOS VALORES MAXIMOS  #######\n",
    "    for i in range(0,n):\n",
    "        l.append(i) # vamos agregando .Establecemos esta matriz\n",
    "        smax = 0 # el maximo de una fila es importante para el pivote\n",
    "        for j in range(0,n):\n",
    "            # se escoje el maximo entre todos los elemnos de una fila\n",
    "            smax = max(smax,abs(a[i][j])) \n",
    "            \n",
    "        s.append(smax) # alojamos el maximo de la fila\n",
    "    \n",
    "    # ---------- print('l inicial ' ,l) (SEGUIMIENTO)\n",
    "    # --------- print('s inicial ', s) (SEGUIMIENTO)\n",
    "    \n",
    "    # ##### PIVOTEO(ESCOJEMOS LA FILAS PIVOTES Y ELIMINAMOS) #########\n",
    "    # k hace referencia a la columna donde se hara ceros seran creados en el array a_ij\n",
    "    # Pero recuerda que los ceros no se crean realmente . Por que en esos espacios almacenamos \n",
    "    # otras cosas(los multiplicadorese para descomposicion LU) . \n",
    "    for k in range(0,n-1):\n",
    "        \n",
    "        rmax = 0 \n",
    "        # ##### SE ESCOJE LA FILA PIVOTE EN ESTE BLOQUE #########\n",
    "        for i in range (k,n):\n",
    "            \n",
    "            # esto es para escoger la correcta fila pivote\n",
    "            # se esta dividiendo (elemnto de columna k y fila [k-n][k])/los Smax\n",
    "            r = abs( a[l[i]][k] / s[l[i]] )\n",
    "            if (r > rmax):\n",
    "                # j = i es para escoger el correcto pivote\n",
    "                # rmax = r es para escoger la maxima proporcion(ratio)\n",
    "                rmax,j = r,i\n",
    "                # al final no usaremos rmax , solo es necesario para detener el if cuando sea necesario\n",
    "              \n",
    "        l[j],l[k] = l[k],l[j] # luego se cambia el lugar donde ocurre el maximo proporcion\n",
    "        \n",
    "        \n",
    "        # ####### ELIMINACION GAUSSIANA PERO LA FILA PIVOTE LO DETERMINA \"l\" ################## \n",
    "        for i in range(k+1,n):\n",
    "            xmult = a[l[i]][k]/a[l[k]][k]\n",
    "            a[l[i]][k] = xmult # los guardo para fines de LU y para eliminar \"b\"\n",
    "            \n",
    "            a_copy[l[i]][k] -= xmult*a[l[k]][k] # para hacer segumiento(se puede borrar) \n",
    "            \n",
    "            # este for hara segumiento de que se haga operaciones en toda la fila que no es pivot\n",
    "            for j in range(k+1,n):\n",
    "                a[l[i]][j] -= xmult*a[l[k]][j]\n",
    "                a_copy[l[i]][j] -= xmult*a[l[k]][j] # para hacer seguimiento(se puede borrar)\n",
    "    \n",
    "    # --------- print('l final ' ,l) (SEGUIMIENTO)\n",
    "    # --------- print('a final copy \\n' , a_copy) (SEGUIMIENTO)\n",
    "    # ##### SEGIMOS PIVOTEANDO PERO PARA LA MATRIZ b###   \n",
    "    for k in range(0,n-1):\n",
    "        \n",
    "        # recuerda el que ahora maneja el orden sera la lista \"l\"\n",
    "        # debemos hacer las operaciones en el mismo orden que hemos hecho para \"a\"\n",
    "        for i in range(k+1,n):\n",
    "            b[l[i]] -= a[l[i]][k]*b[l[k]]\n",
    "            \n",
    "    #------ print('b final \\n ' , b) (SEGUIMIENTO)\n",
    "    \n",
    "    # ######### AHORA HACEMOS LA SUSTITUCION BACKWARD ##########\n",
    "    \n",
    "    # espero se entienda por que -1 . Es por la cuenta por cero\n",
    "    x[n-1] = b[l[n-1]]/a[l[n-1]][n-1]\n",
    "    \n",
    "    for i in range(n-2,-1,-1):\n",
    "        summ = b[l[i]]\n",
    "        for j in range(i+1,n):\n",
    "            summ -= a[l[i]][j]*x[j]\n",
    "            \n",
    "        x[i] = summ/a[l[i]][i]\n",
    "        \n",
    "        \n",
    "    return x\n",
    "\n",
    "\n",
    "def RK4_system(F=None,t0=0,X0=0,limsup=0,nstep=10):\n",
    "    '''\n",
    "    Funcion que recibe como argumentos \n",
    "    - F = funcion de Rn+1-> Rn F(X,t)\n",
    "    - t0,X0 = condicion inicial (valor inicial) X0 es una matriz columna de orden \"n\"\n",
    "    - limsup = hasta donde se quiere hacer la prediccion\n",
    "    - nstep = numero de pasos\n",
    "    Y restorna un array de n+1 dimensiones , donde en cada fila el primer elemento es el tiempo y los restantes son los valores predichos en ese tiempo\n",
    "    Si se desea tener por columnas podrias usar retornar la transpuesta de la matriz (OJO) . \n",
    "    '''\n",
    "    h = (limsup-t0)/nstep\n",
    "    t = t0\n",
    "    X = np.array(X0,dtype=np.float64)\n",
    "    # https://numpy.org/doc/stable/reference/generated/numpy.insert.html ( documentacion )\n",
    "    valor_inicio = np.insert(X,0,t) # lo que hace es crear una copia de X y aumentarle al inicio el \"t\" \n",
    "    cal_valores = []\n",
    "    cal_valores.append(valor_inicio) # agregamos la parte inicial \n",
    "    for i in range(0,nstep):\n",
    "        K1 = F(t,X)\n",
    "        K2 = F(t+1/2*h,X+1/2*K1*h)\n",
    "        K3 = F(t+1/2*h,X+1/2*K2*h)\n",
    "        K4 = F(t+1/2*h,X+1/2*K3*h)\n",
    "        t = t0 + (i+1)*h\n",
    "        X = X + 1/6*(K1+ 2*K2+ 2*K3 + K4)*h\n",
    "        valor_calculado = np.insert(X,0,t) # lo que hace es crear una copia de X y aumentarle al inicio el \"t\" \n",
    "        cal_valores.append(valor_calculado) # agregamos la parte inicial \n",
    "        \n",
    "    lista_resultados = np.array(cal_valores,dtype=np.float64)\n",
    "    return lista_resultados # aca puedes retornar esto o su transpuesta"
   ]
  },
  {
   "cell_type": "markdown",
   "metadata": {},
   "source": [
    "# Aca intentare compactar la condicion de dirichlet con newman "
   ]
  },
  {
   "cell_type": "markdown",
   "metadata": {},
   "source": [
    "<img src=\"diriclet_lineal.png\">"
   ]
  },
  {
   "cell_type": "markdown",
   "metadata": {},
   "source": [
    "<img src=\"contorno_general.png\">"
   ]
  },
  {
   "cell_type": "code",
   "execution_count": 7,
   "metadata": {},
   "outputs": [],
   "source": [
    "# solo copiar ,pegar y modificar ciertos detalles . Que esta facil hacerlo \n",
    "def sol_EDO_Diri_or_New(u=None,v=None,w=None,ta=1,alpha=0,tb=2,beta=0,n=99,tipo=\"dirichlet\",analitic_solution=None):\n",
    "    '''\n",
    "    Se quiere resolver la ecuacion diff2x = u(t) + v(t)x + w(t)diff1x para eso se le pasa\n",
    "    - u,v,t son funciones de R-> R que deben ser pasadas si o si \n",
    "    - n = es el numero de pasos entre , pero debes tener en mente que en el paso 0 se tiene \"ta\" y en el paso \"n\" se tiene \"tb\"\n",
    "     Asi por ejemplo si quieres 100 puntos para dividir el dominio de \"ta\" a \"tb\" debes poner n=99. \n",
    "    - Se debe saber que las condicioones depende ,\n",
    "        - dirichlet : x(ta) = alpha , x(tb) = beta\n",
    "        - newman_left : x'(ta) = alpha , x(tb) = beta\n",
    "        - newman_right : x(ta) = alpha , x'(tb) = beta\n",
    "        - newman_both : x'(ta) = alpha , x'(tb) = beta\n",
    "    - analitic_solution = Es la solucion analitica (optional) si se conoce\n",
    "    \n",
    "    Esta funcion retornara si se tiene la solucion analitica , Una lista de 4 fila donde la primera fila \n",
    "    se muestra los puntos donde se predice , la segunda fila los valores predichos , tercero los valores analiticos \n",
    "    y cuarto el error . Si no se tiene la solucion analitica , es decir \"analitic_solution=None\", solo se pasa dos filas \n",
    "    '''\n",
    "    h = (tb-ta)/n # el tamaño del paso esta determinado por los extremos el numero de pasos \"n\"\n",
    "    \n",
    "    ########## armamos el espacio para los elementos la matriz (n+1) x (n+1) \n",
    "    # recuerda que queremos en general predecir los 100 puntos repartidos entre ta y tb ( a veces no se sabe x(ta) y x(tb) )\n",
    "    a = np.ndarray( shape=(n+1), dtype = np.float64 )\n",
    "    b = np.ndarray( shape=(n+1), dtype = np.float64 )\n",
    "    c = np.ndarray( shape=(n+1), dtype = np.float64 )\n",
    "    d = np.ndarray( shape=(n+1), dtype = np.float64 )\n",
    "    A = np.zeros( shape=(n+1,n+1), dtype = np.float64 )\n",
    "    # esto se usara para almacenar los resultados / primera fila sera los ti donde se predice \n",
    "    # / segunda fila sera los x(ti) predichos / tercera fila sera los reales / cuarta fila el error \n",
    "    resultado = [] \n",
    "    \n",
    "    ############# LLenamos los elemenos de nuestra matrices \n",
    "    # estos elementos salen de forma natural cuando se forma las matrices a mano \n",
    "    for i in range(0,n+1):\n",
    "        t = ta + (i)*h # el i+1 es necesario por el contador de range que toma desde el cero\n",
    "        a[i] = -(1+(h/2)*w(t))\n",
    "        b[i] = -h**2*u(t)\n",
    "        c[i] = -(1-(h/2)*w(t))\n",
    "        d[i] = 2+h**2*v(t)\n",
    "    \n",
    "    # llenamos la matriz \n",
    "    if tipo==\"dirichlet\" or tipo == \"newman_right\":\n",
    "        A[0][0] = 1\n",
    "        b[0] = alpha\n",
    "    elif tipo == \"newman_left\" or tipo == \"newman_both\":\n",
    "        A[0][0] = d[0]\n",
    "        A[0][1] = c[0] + a[0]\n",
    "        b[0] = b[0] + 2*h*alpha*a[0]\n",
    "    \n",
    "    for k in range(1,n):\n",
    "        A[k][k] = d[k] # llenamos la diagonal \n",
    "    for k in range(1,n):\n",
    "        A[k][k+1] = c[k] # llenamos la parte diagonal superiror de la banda tridiagonal\n",
    "    for k in range(1,n):\n",
    "        A[k][k-1] = a[k] # llenamos la parte diagonal inferior de la banda tridiagonal\n",
    "\n",
    "    if tipo==\"dirichlet\" or tipo == \"newman_left\":\n",
    "        A[n][n] = 1\n",
    "        b[n] = beta \n",
    "    elif tipo == \"newman_right\" or tipo == \"newman_both\":\n",
    "        A[n][n] = d[n]\n",
    "        A[n][n-1] = c[n] + a[n]\n",
    "        b[n] = b[n] - 2*h*beta*c[n]\n",
    "    #### Resolvemos la matriz \n",
    "    X = (gauss(A,b)).T # va a retornar una matriz columna de orden 1xn+1 / el .T es para devolver transpuesta\n",
    "    \n",
    "    # agregamso a la lista resultado los puntos evaluados \n",
    "    puntos = []\n",
    "    for i in range(0,n+1):\n",
    "        puntos.append(ta+i*h)\n",
    "    resultado.append(puntos)\n",
    "    \n",
    "    resultado.append(X[0]) # agregamos los resultados predichos , el [0] es debido a que es una matriz 1x(n+1) \n",
    "    \n",
    "    # ahora si tenemos la solucion analitica entonces es conveniente retornar no solo el resultado sino tambien \n",
    "    # su comparacion con los valores analiticos y su error \n",
    "    if analitic_solution != None:\n",
    "        analitic_solucion = [] # para almacenar las soluciones analiticas\n",
    "        lista_error = [] # Para almacenar las soluciones analiticas\n",
    "        \n",
    "        # puntos inicial e intermedios\n",
    "        for i in range(0,n+1):\n",
    "            t = ta + (i)*h\n",
    "            analitico = analitic_solution(t)\n",
    "            error = analitico - X[0][i] # hallamos el error\n",
    "            analitic_solucion.append(analitico)\n",
    "            lista_error.append(error)\n",
    "\n",
    "        resultado.append(analitic_solucion)\n",
    "        resultado.append(lista_error)\n",
    "    \n",
    "    # retornamos \n",
    "    return np.array(resultado,dtype=np.float64)  "
   ]
  },
  {
   "cell_type": "markdown",
   "metadata": {},
   "source": [
    "### Probamos con condiciones de dirichlet "
   ]
  },
  {
   "cell_type": "code",
   "execution_count": 8,
   "metadata": {},
   "outputs": [
    {
     "data": {
      "text/plain": [
       "(array([1.  , 1.25, 1.5 , 1.75, 2.  ]),\n",
       " array([1.09737491, 2.54494201, 4.2702745 , 6.28991125, 8.63749661]),\n",
       " array([1.09737491, 2.54437587, 4.26947747, 6.28934084, 8.63749661]))"
      ]
     },
     "execution_count": 8,
     "metadata": {},
     "output_type": "execute_result"
    }
   ],
   "source": [
    "# Probemos si nuesta funcion trabaja \n",
    "'''\n",
    "Queremos resolver el problema diff2x = e^{t} - 3sin(t) + diff1x - x \n",
    "con x(1) = 1.09737 491 y x(2) = 8.63749 661 y tomar 100 puntos incluyendo a y b\n",
    "--- Por lo tanto estos son nuestros parametros \n",
    "- u(t) = e^(t) - 3sin(t)\n",
    "- v(t) = -1\n",
    "- w(t) = 1\n",
    "- n=99\n",
    "- ta = 1 , alpha = 1.09737 491 , tb = 2 , beta = 8.63749 661 \n",
    "'''\n",
    "def upara(t):\n",
    "    return np.float64(np.e**(t)-3*np.sin(t))\n",
    "def vpara(t):\n",
    "    return np.float64(-1)\n",
    "def wpara(t):\n",
    "    return np.float64(1)\n",
    "def analitico(t):\n",
    "    return np.float64(np.e**(t)-3*np.cos(t))\n",
    "\n",
    "resultado1 = sol_EDO_Diri_or_New(u=upara,v=vpara,w=wpara,ta=1,alpha=1.09737491,tb=2,beta=8.63749661,n=4,tipo=\"dirichlet\",\n",
    "                           analitic_solution=analitico)\n",
    "resultado1[0],resultado1[1] ,resultado1[2] "
   ]
  },
  {
   "cell_type": "markdown",
   "metadata": {},
   "source": [
    "### Ahora probare con condiciones de newman - right "
   ]
  },
  {
   "cell_type": "code",
   "execution_count": 9,
   "metadata": {},
   "outputs": [
    {
     "data": {
      "text/plain": [
       "(array([0.        , 0.31415927, 0.62831853, 0.9424778 , 1.25663706,\n",
       "        1.57079633]),\n",
       " array([0.        , 0.62877912, 1.1333513 , 1.43854454, 1.54789847,\n",
       "        1.54226701]),\n",
       " array([0.        , 0.60805189, 1.10384679, 1.41800605, 1.55052969,\n",
       "        1.57079633]))"
      ]
     },
     "execution_count": 9,
     "metadata": {},
     "output_type": "execute_result"
    }
   ],
   "source": [
    "# Probemos si nuesta funcion trabaja \n",
    "'''\n",
    "Queremos resolver el problema diff2x = 4*t - 4*diff1x\n",
    "con x(0) = 0 y x(\\pi/2) = 0 y tomar 11 puntos incluyendo a y b\n",
    "--- Por lo tanto estos son nuestros parametros \n",
    "- u(t) = 4*t\n",
    "- v(t) = -4\n",
    "- w(t) = ''\n",
    "- n=10\n",
    "- ta = 0 , alpha = 0 , tb = pi/2 , beta = 0\n",
    "'''\n",
    "def upara(t):\n",
    "    return np.float64(4*t)\n",
    "def vpara(t):\n",
    "    return np.float64(-4)\n",
    "def wpara(t):\n",
    "    return np.float64(0)\n",
    "def analitico(t):\n",
    "    return np.float64(t+(1/2)*np.sin(2*t))\n",
    "\n",
    "resultado1 = sol_EDO_Diri_or_New(u=upara,v=vpara,w=wpara,ta=0,alpha=0,tb=np.pi/2,beta=0,n=5,tipo=\"newman_right\",\n",
    "                           analitic_solution=analitico)\n",
    "resultado1[0],resultado1[1] ,resultado1[2] "
   ]
  },
  {
   "cell_type": "markdown",
   "metadata": {},
   "source": [
    "#### Ahora probare con  condiciones de newman - left"
   ]
  },
  {
   "cell_type": "code",
   "execution_count": 10,
   "metadata": {
    "scrolled": false
   },
   "outputs": [
    {
     "data": {
      "text/plain": [
       "(array([0.        , 0.66666667, 1.33333333, 2.        ]),\n",
       " array([1.11981211, 2.03532591, 3.855429  , 7.3890561 ]),\n",
       " array([1.        , 1.94773404, 3.79366789, 7.3890561 ]),\n",
       " 0.5000000038119851)"
      ]
     },
     "execution_count": 10,
     "metadata": {},
     "output_type": "execute_result"
    }
   ],
   "source": [
    "# Probemos si nuesta funcion trabaja \n",
    "'''\n",
    "Queremos resolver el problema diff2x = x\n",
    "con x(0) = 1 y x(\\pi) = 0 y tomar 100 puntos incluyendo a y b\n",
    "--- Por lo tanto estos son nuestros parametros \n",
    "- u(t) = 0\n",
    "- v(t) = -1\n",
    "- w(t) = 0\n",
    "- n=99\n",
    "- ta = 0 , alpha = 1 , tb = pi , beta = 0\n",
    "'''\n",
    "def upara(t):\n",
    "    return np.float64(0)\n",
    "def vpara(t):\n",
    "    return np.float64(1)\n",
    "def wpara(X):\n",
    "    return np.float64(0)\n",
    "def analitico2(t):\n",
    "    return np.float64(np.e**(t))\n",
    "\n",
    "resultado1 = sol_EDO_Diri_or_New(u=upara,v=vpara,w=wpara,ta=0,alpha=1,tb=2,beta=np.e**(2),n=3,tipo=\"newman_left\",\n",
    "                           analitic_solution=analitico2)\n",
    "resultado1[0],resultado1[1] ,resultado1[2] , np.sin(0.52359878)"
   ]
  },
  {
   "cell_type": "markdown",
   "metadata": {},
   "source": [
    "#### Ahora probare con condiciones de newman - both //// confio en que funcione , ya estoy cansado de probar :( "
   ]
  },
  {
   "cell_type": "markdown",
   "metadata": {},
   "source": [
    "# Aca aplicare el shooting method"
   ]
  },
  {
   "cell_type": "code",
   "execution_count": 12,
   "metadata": {},
   "outputs": [
    {
     "name": "stdout",
     "output_type": "stream",
     "text": [
      "8.637496609999998 resultado en tb\n"
     ]
    },
    {
     "data": {
      "image/png": "[encoded data removed]",
      "text/plain": [
       "<Figure size 432x288 with 1 Axes>"
      ]
     },
     "metadata": {
      "needs_background": "light"
     },
     "output_type": "display_data"
    }
   ],
   "source": [
    "# esta funcion no se si esta bien , pero lo he probado y me resulta cosas raras pero muy raras \n",
    "def shooting_method(Func=None,ta=0,alpha=0,tb=0,beta=0,npaso=20,supos1=0,supos2=0):\n",
    "    '''\n",
    "    La siguiente funcion requiere tener el runge kutta que resuelve multiple ( OJO )\n",
    "    Resuelve un tipo de ecuacion diferenicial , la lineal de \"diff2x = f(t,x,x')\" .\n",
    "    ya que esas funciones se pueden desdoblar en ecuaciones 2 ecuaciones de primer grado . \n",
    "    haciendo x = x1 y x'=x2\n",
    "    \n",
    "    Esta funcion recibe como parametros\n",
    "    - F = Funcion que se refiere al sistema de ecuaciones desdoblado \n",
    "    - ta ,alpha,tb , beta = se refiere a las condiciones de dirichlet y(ta) = alpha , y(tb) = beta \n",
    "    - npaso = esto se refiere al numero de pasos para hacer la evaluacion con runge kuta \n",
    "    - supos1,supos2 = las dos suposiciones de y'(ta) = supos1 or supos2 . \n",
    "    \n",
    "    Esta funcion retorna un array con 4 filas , la primera fila es los puntos donde se hace las predicciones\n",
    "    la ssegunda fila es lo hallado con la primera suposicion \n",
    "    la tercera fila es lo hallado con la suposicion 2 y la cuarta fila es luego de hacer la interpolacion lineal y resolver\n",
    "    el sistema con la suposicion \n",
    "\n",
    "    '''\n",
    "    # recordar que RK4_system devuelve un array de 3 columnas , primera columna los valores evaluados en el tiempo\n",
    "    # segunda columna los valores predichos para x1 en esos tiempos \n",
    "    # tercera columan los valores predichos para x2 en esos tiempos \n",
    "    \n",
    "    # resolvemos para la primera suposicion\n",
    "    respuesta1 = RK4_system(F=Func,t0=ta,X0=np.array([alpha,supos1]),limsup=tb,nstep=npaso).T\n",
    "    # resolvemos para la segunda suposicion \n",
    "    respuesta2 = RK4_system(F=Func,t0=ta,X0=np.array([alpha,supos2]),limsup=tb,nstep=npaso).T\n",
    "\n",
    "    \n",
    "    # los valores finales que se obtienen para comparar con beta son \n",
    "    beta1 = respuesta1[1][-1]\n",
    "    beta2 = respuesta2[1][-1]\n",
    "\n",
    "    supos3 = supos1 + (supos2-supos1)/(beta2-beta1) * (beta-beta1)\n",
    "   \n",
    "    # finalmente resolvemos para ese suposicion 3 \n",
    "    respuesta3 = RK4_system(F=Func,t0=ta,X0=np.array([alpha,supos3]),limsup=tb,nstep=npaso).T\n",
    "\n",
    "    # finalmente retornamos lo que prometimos en la descripcion inicial \n",
    "    return np.array([respuesta1[0],respuesta1[1],respuesta2[1],respuesta3[1]] , dtype=np.float64)\n",
    "\n",
    "# Primero definimos nuestra funcion diff2x = f(x,y,y')\n",
    "# diff2x = np.e**(t) - 3*np.sin(t) + diff1x - x\n",
    "\n",
    "# desdoblamos la funcion de la siguiente manera \n",
    "# funcion retorna un array \n",
    "def funcion1(t,X):\n",
    "    x1 = X[0]\n",
    "    x2 = X[1]\n",
    "    diffx1 = x2\n",
    "    diffx2 = np.e**(t)-3*np.sin(t)+x2-x1\n",
    "    return np.array([diffx1,diffx2],dtype=np.float64)\n",
    "\n",
    "def analitico(t):\n",
    "    return np.float64(np.e**(t)-3*np.cos(t))\n",
    "\n",
    "# vamos a resolver el mismo problema que hicimos para las condiciones de dirichlet visto arriba \n",
    "resultado2 = shooting_method(Func=funcion1,ta=1,alpha=1.09737491,tb=2,beta=8.63749661,npaso=4,supos1=2,supos2=7)\n",
    "plt.plot(resultado2[0],resultado2[1],'-*c',label=\"suposicion 1\")\n",
    "plt.plot(resultado2[0],resultado2[2],'-*r',label=\"suposicion 2\")\n",
    "plt.plot(resultado2[0],resultado2[3],'-*b',label=\"interpolando\")\n",
    "plt.plot(np.linspace(1,2,50),analitico(np.linspace(1,2,50)),'g',label=\"teorico\")\n",
    "plt.plot(2,8.63749661,'o')\n",
    "plt.legend( loc='upper left', shadow=True)\n",
    "print(resultado2[3][-1],\"resultado en tb\" ) "
   ]
  },
  {
   "cell_type": "markdown",
   "metadata": {},
   "source": [
    "# Resolvere el ejercicio 1 de la tarea \n",
    "<img src=\"ejercicio1.png\">"
   ]
  },
  {
   "cell_type": "code",
   "execution_count": null,
   "metadata": {},
   "outputs": [],
   "source": [
    "# solucion analitica la hallamos usando sympy\n",
    "from sympy import *\n",
    "x , h,T_a = symbols(\"x,h,T_a\")\n",
    "T = symbols('T', cls=Function)\n",
    "h = 0.01\n",
    "T_a = 20\n",
    "eq = Eq(Derivative(T(x),x,x) , -h*(T_a-T(x) ) )\n",
    "ics = {T(0): 40, T(10): 200}\n",
    "resuelto = dsolve(eq,ics=ics)\n",
    "resuelto"
   ]
  },
  {
   "cell_type": "code",
   "execution_count": null,
   "metadata": {},
   "outputs": [],
   "source": [
    "def analitico(x):\n",
    "    return np.float64(73.4522786865455*np.e**(0.1*𝑥)+20.0-53.4522786865455*np.e**(-0.1*𝑥) )\n",
    "\n",
    "analitico(0),analitico(10) # para comprobar"
   ]
  },
  {
   "cell_type": "code",
   "execution_count": 26,
   "metadata": {},
   "outputs": [
    {
     "name": "stdout",
     "output_type": "stream",
     "text": [
      "//////////////// Pregunta 1 resuelto por Dirichlet//////////////////\n",
      "//////////////// Pregunta 1 resuelto por shooting//////////////////\n"
     ]
    },
    {
     "data": {
      "image/png": "[encoded data removed]",
      "text/plain": [
       "<Figure size 1080x432 with 2 Axes>"
      ]
     },
     "metadata": {
      "needs_background": "light"
     },
     "output_type": "display_data"
    }
   ],
   "source": [
    "print(\"//////////////// Pregunta 1 resuelto por Dirichlet//////////////////\")\n",
    "'''\n",
    "Queremos resolver el problema diff2T = -h'Ta + h'T\n",
    "con T(0) = 40 y T(10) = 200 y tomar 11 puntos incluyendo a y b , para que mi paso sea igual a \"1\" , Asi que escojo n = 10\n",
    "Tambien h'= 0.01 , Ta = 20\n",
    "--- Por lo tanto estos son nuestros parametros \n",
    "- u(t) = -h'Ta\n",
    "- v(t) = h'\n",
    "- w(t) = 0\n",
    "- n=10\n",
    "- ta = 0 , alpha = 40 , tb = 10 , beta = 200\n",
    "'''\n",
    "Ta = 20\n",
    "hprima = 0.01\n",
    "def upara(x):\n",
    "    return np.float64(-hprima*Ta)\n",
    "def vpara(x):\n",
    "    return np.float64(hprima)\n",
    "def wpara(x):\n",
    "    return np.float64(0)\n",
    "def analitico(x):\n",
    "    return np.float64(73.4522786865455*np.e**(0.1*x)+20.0-53.4522786865455*np.e**(-0.1*x) )\n",
    "\n",
    "# resolvemos por dirichlet\n",
    "resultado1 = sol_EDO_Diri_or_New(u=upara,v=vpara,w=wpara,ta=0,alpha=40,tb=10,beta=200,n=10,tipo=\"dirichlet\",\n",
    "                           analitic_solution=analitico)\n",
    "\n",
    "print(\"//////////////// Pregunta 1 resuelto por shooting//////////////////\")\n",
    "\n",
    "# Primero definimos nuestra funcion diff2T = f(x,T,T')\n",
    "# diff2T = -h'Ta + h'T\n",
    "# ta = 0 , alpha = 40 , tb = 10 , beta = 200\n",
    "# desdoblamos la funcion de la siguiente manera \n",
    "# funcion retorna un array \n",
    "\n",
    "def funcion_desdoblado(x,T):\n",
    "    T1 = T[0]\n",
    "    T2 = T[1]\n",
    "    diffT1 = T2\n",
    "    diffT2 = -hprima*Ta + hprima*T1\n",
    "    return np.array([diffT1,diffT2],dtype=np.float64)\n",
    "\n",
    "def analitico(x):\n",
    "    return np.float64(73.4522786865455*np.e**(0.1*𝑥)+20.0-53.4522786865455*np.e**(-0.1*𝑥) )\n",
    "\n",
    "# vamos a resolver con el metodo de shooting \n",
    "resultado2 = shooting_method(Func=funcion_desdoblado,ta=0,alpha=40,tb=10,beta=200,npaso=3,supos1=100,supos2=200)\n",
    "\n",
    "# graficaremos nuestros resultados \n",
    "fig, axes = plt.subplots(nrows=1,ncols=2 , figsize = (15,6)) \n",
    "axes[0].plot(resultado1[0],resultado1[1],'-*c',label=\"Predecido_dirichlet\")\n",
    "axes[0].plot(np.linspace(0,10,50),analitico(np.linspace(0,10,50)),'r',label=\"Analitico\")\n",
    "axes[0].legend( loc='upper left', shadow=True)\n",
    "\n",
    "axes[1].plot(resultado2[0],resultado2[1],'-*c',label=\"suposicion 1\")\n",
    "axes[1].plot(resultado2[0],resultado2[2],'-*r',label=\"suposicion 2\")\n",
    "axes[1].plot(resultado2[0],resultado2[3],'-*b',label=\"interpolando\")\n",
    "axes[1].plot(np.linspace(0,10,50),analitico(np.linspace(0,10,50)),'g',label=\"teorico\")\n",
    "axes[1].annotate(f\"({10},{200})\", xy=(10,200), xytext=(4, 350),\n",
    "            arrowprops=dict(facecolor='black', shrink=0.05),fontsize=16)\n",
    "axes[1].legend( loc='upper left', shadow=True)\n",
    "plt.show()"
   ]
  },
  {
   "cell_type": "markdown",
   "metadata": {},
   "source": [
    "# Problema numero 2 dejado por el profesor "
   ]
  },
  {
   "cell_type": "markdown",
   "metadata": {},
   "source": [
    "<img src=\"ejercicio2_newman.png\">"
   ]
  },
  {
   "cell_type": "code",
   "execution_count": null,
   "metadata": {},
   "outputs": [],
   "source": [
    "# solucion analitica la hallamos usando sympy\n",
    "from sympy import *\n",
    "x , h,T_infi = symbols(\"x,h,T_infi\")\n",
    "T = symbols('T', cls=Function)\n",
    "h = 0.01\n",
    "T_infi = 40\n",
    "eq = Eq(Derivative(T(x),x,x) , -h*(T_infi-T(x) ) )\n",
    "ics = {T(x).diff(x).subs(x, 0): 10, T(10): 200}\n",
    "resuelto = dsolve(eq,ics=ics)\n",
    "resuelto"
   ]
  },
  {
   "cell_type": "code",
   "execution_count": 28,
   "metadata": {},
   "outputs": [
    {
     "data": {
      "text/plain": [
       "(10.0, 199.99999999999972)"
      ]
     },
     "execution_count": 28,
     "metadata": {},
     "output_type": "execute_result"
    }
   ],
   "source": [
    "# comprobamos\n",
    "def analitico(x):\n",
    "    return np.float64(63.7646340953225*np.e**(0.1*x)+40.0-36.2353659046775*np.e**(-0.1*x) )\n",
    "\n",
    "def analitico_deriv(x):\n",
    "    return np.float64(63.7646340953225*(0.1)*np.e**(0.1*x)-36.2353659046775*(-0.1)*np.e**(-0.1*x) )\n",
    "\n",
    "analitico_deriv(0),analitico(10) # para comprobar"
   ]
  },
  {
   "cell_type": "code",
   "execution_count": 19,
   "metadata": {},
   "outputs": [
    {
     "name": "stdout",
     "output_type": "stream",
     "text": [
      "//////////////// Pregunta 2 resuelto por newman left//////////////////\n"
     ]
    },
    {
     "data": {
      "image/png": "[encoded data removed]",
      "text/plain": [
       "<Figure size 1080x432 with 2 Axes>"
      ]
     },
     "metadata": {
      "needs_background": "light"
     },
     "output_type": "display_data"
    },
    {
     "data": {
      "text/plain": [
       "(array([ 0.,  1.,  2.,  3.,  4.,  5.,  6.,  7.,  8.,  9., 10.]),\n",
       " array([ 67.67462043,  77.81299353,  88.32949657,  99.32929457,\n",
       "        110.92238552, 123.22470033, 136.35926213, 150.45741656,\n",
       "        165.66014516, 182.1194752 , 200.        ]),\n",
       " array([ 67.52926819,  77.68370428,  88.21529154,  99.22943365,\n",
       "        110.83636384, 123.15224816, 136.30034814, 150.41225436,\n",
       "        165.62920354, 182.10349202, 200.        ]))"
      ]
     },
     "execution_count": 19,
     "metadata": {},
     "output_type": "execute_result"
    }
   ],
   "source": [
    "print(\"//////////////// Pregunta 2 resuelto por newman left//////////////////\")\n",
    "'''\n",
    "Queremos resolver el problema diff2T = -h'Tinfi + h'T\n",
    "con T'(0) = 10 y T(10) = 200 y tomar 11 puntos incluyendo a y b , para que mi paso sea igual a \"1\" , Asi que escojo n = 10\n",
    "Tambien h'= 0.01 , Tinfi = 40\n",
    "--- Por lo tanto estos son nuestros parametros \n",
    "- u(t) = -h'Tinfi\n",
    "- v(t) = h'\n",
    "- w(t) = 0\n",
    "- n=10\n",
    "- ta = 0 , alpha = 10 , tb = 10 , beta = 200\n",
    "'''\n",
    "Tinfi = 40\n",
    "hprima = 0.01\n",
    "def upara(x):\n",
    "    return np.float64(-hprima*Tinfi)\n",
    "def vpara(x):\n",
    "    return np.float64(hprima)\n",
    "def wpara(x):\n",
    "    return np.float64(0)\n",
    "def analitico(x):\n",
    "    return np.float64(63.7646340953225*np.e**(0.1*𝑥)+40.0-36.2353659046775*np.e**(-0.1*𝑥) )\n",
    "\n",
    "resultado3 = sol_EDO_Diri_or_New(u=upara,v=vpara,w=wpara,ta=0,alpha=10,tb=10,beta=200,n=10,tipo=\"newman_left\",\n",
    "                           analitic_solution=analitico)\n",
    "\n",
    "\n",
    "# graficaremos nuestros resultados \n",
    "fig, axes = plt.subplots(nrows=1,ncols=2 , figsize = (15,6)) \n",
    "axes[0].plot(resultado3[0],resultado3[1],'-*c',label=\"Predecido_newman\")\n",
    "axes[0].plot(np.linspace(0,10,50),analitico(np.linspace(0,10,50)),'r',label=\"Analitico\")\n",
    "axes[0].legend( loc='upper left', shadow=True)\n",
    "\n",
    "\n",
    "axes[1].plot(resultado3[0],abs(resultado3[3]),'-*c',label=\"error_por_resta\")\n",
    "axes[1].legend( loc='lower left', shadow=True)\n",
    "axes[1].set_yscale(\"log\")\n",
    "\n",
    "plt.show()\n",
    "\n",
    "resultado3[0],resultado3[1] ,resultado3[2] "
   ]
  },
  {
   "cell_type": "markdown",
   "metadata": {},
   "source": [
    "# Problema de autovalores con metodo de potencias "
   ]
  },
  {
   "cell_type": "markdown",
   "metadata": {},
   "source": [
    "<img src=\"potencias.png\">"
   ]
  },
  {
   "cell_type": "code",
   "execution_count": 20,
   "metadata": {},
   "outputs": [],
   "source": [
    "def eigevalores_potencias(A=None,X=None,kmax=100):\n",
    "    '''\n",
    "    Funcion que usa el metodo de potencias para hallar el autovalor dominante y su respectivo eingevalor de una matriz \n",
    "    - A = matriz de nxn\n",
    "    - X = vector inicial de nx1 , (Ojo debes mandar copias si no quieres modificar tu X)\n",
    "    - kmax = cuantas iteraciones se quiere hacer ,por defecto es 100\n",
    "    Esta funcion retorna el autovalor y el respectivo autovecto \n",
    "    '''\n",
    "    for k in range(0,kmax):\n",
    "        Y = A.dot(X)\n",
    "        autovalor = Y[0] / X[0]\n",
    "        X = Y/Y[1] # esto lo hago con el fin de que mi matriz no diverja  \n",
    "    return X , autovalor"
   ]
  },
  {
   "cell_type": "markdown",
   "metadata": {},
   "source": [
    "#### Tarea \n",
    "<img src=\"ejercicio4.png\">"
   ]
  },
  {
   "cell_type": "markdown",
   "metadata": {},
   "source": [
    "# Primer matriz lo resolvemos analiticamente(usando metodos alternativos ) "
   ]
  },
  {
   "cell_type": "code",
   "execution_count": null,
   "metadata": {},
   "outputs": [],
   "source": [
    "# resolvemos analiticamente usando sympy \n",
    "from sympy import *\n",
    "init_printing(use_unicode=True) # La salida sera en unicode / en latex "
   ]
  },
  {
   "cell_type": "code",
   "execution_count": null,
   "metadata": {},
   "outputs": [],
   "source": [
    "# Primero\n",
    "M1 = Matrix([[-4,10],[7,5]])\n",
    "M1"
   ]
  },
  {
   "cell_type": "code",
   "execution_count": null,
   "metadata": {},
   "outputs": [],
   "source": [
    "M1.eigenvects() "
   ]
  },
  {
   "cell_type": "code",
   "execution_count": null,
   "metadata": {},
   "outputs": [],
   "source": []
  },
  {
   "cell_type": "markdown",
   "metadata": {},
   "source": [
    "### Probamos nuestro codigo para la matriz"
   ]
  },
  {
   "cell_type": "code",
   "execution_count": 24,
   "metadata": {},
   "outputs": [
    {
     "name": "stdout",
     "output_type": "stream",
     "text": [
      "//////////////// Pregunta de autovalores //////////////////\n",
      "Para la primera matriz tenemos el autovector \n",
      "[[0.71427953]\n",
      " [1.        ]] \n",
      " con el autovalor dominante [9.99986542]\n"
     ]
    }
   ],
   "source": [
    "print(\"//////////////// Pregunta de autovalores //////////////////\")\n",
    "A1 = np.array([[-4,10],[7,5]],dtype=np.float64)\n",
    "X1 = np.array([[1/2],[1]],dtype=np.float64)\n",
    "matriz , autovalor = eigevalores_potencias(A=A1,X=X1,kmax=100)\n",
    "print(f\"Para la primera matriz tenemos el autovector \\n{matriz} \\n con el autovalor dominante {autovalor}\")"
   ]
  },
  {
   "cell_type": "markdown",
   "metadata": {},
   "source": [
    "# Segunda matriz resolvemos analiticamente(usando metodos alternativos )"
   ]
  },
  {
   "cell_type": "code",
   "execution_count": null,
   "metadata": {},
   "outputs": [],
   "source": [
    "# Primero\n",
    "M2 = Matrix([[1,2,-2],[-2,5,-2],[-6,6,-3]])\n",
    "M2"
   ]
  },
  {
   "cell_type": "code",
   "execution_count": null,
   "metadata": {},
   "outputs": [],
   "source": [
    "M2.eigenvects() "
   ]
  },
  {
   "cell_type": "code",
   "execution_count": 25,
   "metadata": {},
   "outputs": [
    {
     "name": "stdout",
     "output_type": "stream",
     "text": [
      "Para la segunda matriz tenemos el autovector \n",
      "[[4.]\n",
      " [1.]\n",
      " [2.]] \n",
      " con el autovalor dominante [18.]\n"
     ]
    }
   ],
   "source": [
    "A2 = np.array([[1,2,-2],[-2,5,-2],[-6,6,-3]],dtype=np.float64)\n",
    "X2 = np.array([[2],[1/2],[1]],dtype=np.float64)\n",
    "matriz , autovalor = eigevalores_potencias(A=A2,X=X2,kmax=100)\n",
    "matriz , autovalor\n",
    "print(f\"Para la segunda matriz tenemos el autovector \\n{matriz} \\n con el autovalor dominante {autovalor}\")"
   ]
  }
 ],
 "metadata": {
  "kernelspec": {
   "display_name": "Python 3",
   "language": "python",
   "name": "python3"
  },
  "language_info": {
   "codemirror_mode": {
    "name": "ipython",
    "version": 3
   },
   "file_extension": ".py",
   "mimetype": "text/x-python",
   "name": "python",
   "nbconvert_exporter": "python",
   "pygments_lexer": "ipython3",
   "version": "3.7.6"
  }
 },
 "nbformat": 4,
 "nbformat_minor": 4
}
