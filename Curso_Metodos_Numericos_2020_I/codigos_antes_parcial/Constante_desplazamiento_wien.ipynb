{
 "cells": [
  {
   "cell_type": "markdown",
   "metadata": {},
   "source": [
    "##### Constante de desplazamiento de Wien"
   ]
  },
  {
   "cell_type": "markdown",
   "metadata": {},
   "source": [
    "La expresion a resolver es :\n",
    "$$\n",
    "x - 5 + 5 e^{- x} = 0\n",
    "$$"
   ]
  },
  {
   "cell_type": "markdown",
   "metadata": {},
   "source": [
    "# Librerias que usare"
   ]
  },
  {
   "cell_type": "code",
   "execution_count": 4,
   "metadata": {},
   "outputs": [],
   "source": [
    "import numpy as np "
   ]
  },
  {
   "cell_type": "markdown",
   "metadata": {},
   "source": [
    "# Funciones externas a las principales"
   ]
  },
  {
   "cell_type": "code",
   "execution_count": 5,
   "metadata": {},
   "outputs": [],
   "source": [
    "def funcion(x):\n",
    "    # https://numpy.org/doc/stable/reference/generated/numpy.exp.html (exponencial)\n",
    "    # https://numpy.org/devdocs/user/basics.types.html (tipos de elemenntso)\n",
    "    return np.float64( x-5+5*np.exp(-x) )\n",
    "\n",
    "def deriv_funcion(x):\n",
    "    return np.float64( 1-5*np.exp(-x) ) \n",
    "\n",
    "def func_punto_fijo(x):\n",
    "    # https://numpy.org/doc/stable/reference/generated/numpy.exp.html (exponencial)\n",
    "    # https://numpy.org/devdocs/user/basics.types.html (tipos de elemenntso)\n",
    "    return np.float64( 5*(1-np.exp(-x) )  )\n"
   ]
  },
  {
   "cell_type": "markdown",
   "metadata": {},
   "source": [
    "Referencia en wikipedia es que : [ley de wien](https://es.wikipedia.org/wiki/Ley_de_desplazamiento_de_Wien)\n",
    "$$\n",
    "{\\displaystyle x=4{,}965114231744276\\ldots }\n",
    "$$"
   ]
  },
  {
   "cell_type": "markdown",
   "metadata": {},
   "source": [
    "#  Grafica de la funcion"
   ]
  },
  {
   "cell_type": "code",
   "execution_count": 6,
   "metadata": {},
   "outputs": [
    {
     "data": {
      "image/png": "[encoded data removed]",
      "text/plain": [
       "<Figure size 432x288 with 1 Axes>"
      ]
     },
     "metadata": {
      "needs_background": "light"
     },
     "output_type": "display_data"
    }
   ],
   "source": [
    "import matplotlib.pyplot as plt\n",
    "x = np.arange(0,6,0.2)\n",
    "plt.plot(x,funcion(x))\n",
    "# Establecer el color de los ejes.\n",
    "plt.axhline(0, color=\"black\")\n",
    "plt.axvline(0, color=\"black\")\n",
    "plt.show()"
   ]
  },
  {
   "cell_type": "markdown",
   "metadata": {},
   "source": [
    "## Busqueda incremental "
   ]
  },
  {
   "cell_type": "code",
   "execution_count": 81,
   "metadata": {},
   "outputs": [],
   "source": [
    "def busqueda_incremental(inf,sup,precision):\n",
    "    \n",
    "    inicio = np.float(inf)\n",
    "    final = np.float64(sup)\n",
    "    delta_x = np.float64(precision) # buscamos a la derecha . \n",
    "    # devuelve una lista (numpy.array con elementos float64) \n",
    "    rango = np.arange(inicio,(final+delta_x),delta_x) \n",
    "    \n",
    "    # ese -1 es para evitar que llamemos algo fuera de la lista\n",
    "    for i in range(len(rango)-1):\n",
    "        \n",
    "        # Podria usar la condicion f(i)*f(i-1) < 0 pero debido a que puede darme un underflow \n",
    "        # Mejor me sale usar la funcion sign que es mas confiable \n",
    "        # https://numpy.org/doc/stable/reference/generated/numpy.sign.html (documentacion)\n",
    "        # Podria crear mi propia funcion signo pero mejor usar la de numpy para ahorrar codigo\n",
    "        signo_left = np.sign(funcion(rango[i]))\n",
    "        signo_right = np.sign(funcion(rango[i+1]))\n",
    "        # si el signo evaluado izquierda es diferente a la derecha \n",
    "        if signo_left != signo_right:\n",
    "            print(f\"La raiz hallada con la busquda incremental es {  ( rango[i] + rango[i+1] )/ 2 }\")\n",
    "            return None"
   ]
  },
  {
   "cell_type": "markdown",
   "metadata": {},
   "source": [
    "## Busqueda por biseccion"
   ]
  },
  {
   "cell_type": "code",
   "execution_count": 78,
   "metadata": {
    "scrolled": false
   },
   "outputs": [],
   "source": [
    "# nmax = numero de iteraciones como maximo\n",
    "def biseccion(inf,sup,nmax,error_pedido):\n",
    "    \n",
    "    lista = [] # lista que servira para guardar los errores\n",
    "    \n",
    "    num_iter = np.int64(nmax)\n",
    "    a,b,e = np.float64(inf),np.float64(sup),np.float64(error_pedido)\n",
    "    # agregamos mas variables para evitar llamar a la funcion menos veces .\n",
    "    fa,fb = funcion(a),funcion(b) # se pasa el valor por correspondencia (OJO)\n",
    "    \n",
    "    # en el caso que comience en un intervalo equivocado\n",
    "    if np.sign(fa) == np.sign(fb):\n",
    "        print(\"Se tiene el mismo signo en las evaluaciones de los extremos de la funcion\")\n",
    "        return None\n",
    "    \n",
    "    # esta variable sera util para detener el programa cuando se tenga la precision deseada \n",
    "    error = b-a \n",
    "    \n",
    "    for n in range(0,num_iter):\n",
    "        \n",
    "        # Este es el error . No sabemos si la raiz esta en la parte derecha del intervalo o en la parte izquierda\n",
    "        error = error/2 \n",
    "        \n",
    "        c = a+error # \"c\" es el punto medio del intervalo\n",
    "        lista.append(c) # agregamos a la lista\n",
    "        fc = funcion(c) # recuerda esto es para evitar llamar demas a la funcion\n",
    "        \n",
    "        \n",
    "        # el programa se detendra cuando complete la iteraciones o cuando el error sea lo suficiente pequeño \n",
    "        if error < e:\n",
    "            print(f'El metodo convergio a {c}')\n",
    "            break\n",
    "        \n",
    "        # si no converge seguimos reduciendo el intervalo a la mitad \n",
    "        # pero debemos reducir para el lado donde esta la raiz \n",
    "        if np.sign(fa) != np.sign(fc):\n",
    "            b,fb = c,fc  \n",
    "        else:\n",
    "            a,fa = c,fc \n",
    "        \n",
    "    # comenzamos a hacer la lista de errores\n",
    "    lista_error = []\n",
    "    for i in range(1,len(lista)):\n",
    "        lista_error.append( abs( lista[i]-lista[i-1] )/ lista[i] *100 ) \n",
    "    \n",
    "    # graficamos\n",
    "    fig1 = plt.plot(range(0,len(lista_error)) ,lista_error,'-*')\n",
    "    plt.title(\"Error en metodo de biseccion\")\n",
    "    plt.xlabel('numero de iteracion (n)')\n",
    "    plt.ylabel('error')\n",
    "    plt.axis([0,5,0,26])\n",
    "    plt.show()\n",
    "        \n",
    "    \n",
    "    # Si termina las iteraciones . Entonces no se llego a la precision pedida \n",
    "    print(f'Numero de iteraciones fue : {len(lista_error)} y se obtuvo {c} como raiz')   "
   ]
  },
  {
   "cell_type": "markdown",
   "metadata": {},
   "source": [
    "# Metodo de la Falsa Posicion"
   ]
  },
  {
   "cell_type": "code",
   "execution_count": 76,
   "metadata": {
    "scrolled": false
   },
   "outputs": [],
   "source": [
    "# Este metodo es igual que el metodo de biseccion pero con la unica diferencia que\n",
    "# el valor intermedio escogido es otro . Por otro lado este metodo no esta modificado asi \n",
    "# que podria dar repetir un extremo en cada iteracion y eso haria que el metodo no sea el mas recomendable\n",
    "# nmax = numero de iteraciones como maximo\n",
    "def falsa_posicion(inf,sup,nmax,error_pedido):\n",
    "    \n",
    "    num_iter = np.int64(nmax)\n",
    "    a,b,e = np.float64(inf),np.float64(sup),np.float64(error_pedido)\n",
    "    # agregamos mas variables para evitar llamar a la funcion menos veces .\n",
    "    fa,fb = funcion(a),funcion(b) # se pasa el valor por correspondencia (OJO)\n",
    "    \n",
    "    # en el caso que comience en un intervalo equivocado\n",
    "    if np.sign(fa) == np.sign(fb):\n",
    "        print(\"Se tiene el mismo signo en las evaluaciones de los extremos de la funcion\")\n",
    "        return None\n",
    "    \n",
    "    # esta variable sera util para detener el programa cuando se tenga la precision deseada \n",
    "    error = b-a \n",
    "    lista = []\n",
    "    \n",
    "    for n in range(0,num_iter):\n",
    "        \n",
    "        c = (a*fb-b*fa)/(fb-fa)# \"c\" escogido es diferente al metodo de biseccion\n",
    "        fc = funcion(c) # recuerda esto es para evitar llamar demas a la funcion\n",
    "        lista.append(c)\n",
    "        \n",
    "        \n",
    "        if np.sign(fa) != np.sign(fc):\n",
    "            error = (c-a)/2 # este seria mi nuevo error . No me imagino otra forma de medir el error con este metodo \n",
    "        else:\n",
    "            error = (b-c)/2  \n",
    "        \n",
    "        # el programa se detendra cuando complete la iteraciones o cuando el error sea lo suficiente pequeño \n",
    "        if error < e:\n",
    "            print(f'El metodo convergio a {c}')\n",
    "            break\n",
    "        \n",
    "        # si no converge seguimos reduciendo el intervalo a la mitad \n",
    "        # pero debemos reducir para el lado donde esta la raiz \n",
    "        if np.sign(fa) != np.sign(fc):\n",
    "            b,fb = c,fc  \n",
    "        else:\n",
    "            a,fa = c,fc \n",
    "    \n",
    "    \n",
    "        # comenzamos a hacer la lista de errores\n",
    "    lista_error = []\n",
    "    for i in range(1,len(lista)):\n",
    "        lista_error.append( abs( lista[i]-lista[i-1] )/ lista[i] *100 ) \n",
    "\n",
    "    # graficamos\n",
    "    fig2 = plt.plot(range(0,len(lista_error)) ,lista_error,'-*')\n",
    "    plt.title(\"Error en metodo de falsa posición\")\n",
    "    plt.xlabel('numero de iteracion (n)')\n",
    "    plt.ylabel('error')\n",
    "    plt.show()\n",
    "    \n",
    "    \n",
    "    # Si termina las iteraciones . Entonces no se llego a la precision pedida \n",
    "    print(f'Numero de iteraciones fue : {len(lista_error)} y se obtuvo {c} como raiz')"
   ]
  },
  {
   "cell_type": "markdown",
   "metadata": {},
   "source": [
    "# Metodo del punto fijo "
   ]
  },
  {
   "cell_type": "code",
   "execution_count": 73,
   "metadata": {},
   "outputs": [],
   "source": [
    "# en este metodo tenemos que hacer cuenta de dos errores \n",
    "def punto_fijo(x_0 , nmax ):\n",
    "    \n",
    "    x_old = np.float(x_0)\n",
    "    \n",
    "    lista = []\n",
    "    lista.append(x_old)\n",
    "\n",
    "    for n in range(0,nmax):\n",
    "        \n",
    "        gx = func_punto_fijo(x_old) # se evalua el valor y se guarda en una variable\n",
    "        x_new = gx\n",
    "        lista.append(x_new)\n",
    "        \n",
    "        \n",
    "        x_old = x_new\n",
    "    \n",
    "        # comenzamos a hacer la lista de errores\n",
    "    lista_error = []\n",
    "    for i in range(1,len(lista)):\n",
    "        lista_error.append( abs( lista[i]-lista[i-1] )/ lista[i] *100 ) \n",
    "\n",
    "    # graficamos\n",
    "    fig2 = plt.plot(range(0,len(lista_error)) ,lista_error,'-*')\n",
    "    plt.title(\"Error en metodo de punto fijo\")\n",
    "    plt.xlabel('numero de iteracion (n)')\n",
    "    plt.ylabel('error')\n",
    "    plt.show()\n",
    "        \n",
    "    print(f'Numero de iteraciones fue : {len(lista_error)} y se obtuvo {x_new} como raiz')"
   ]
  },
  {
   "cell_type": "markdown",
   "metadata": {},
   "source": [
    "# Metodo de Newton Raphson "
   ]
  },
  {
   "cell_type": "code",
   "execution_count": 68,
   "metadata": {},
   "outputs": [],
   "source": [
    "# en este metodo tenemos que hacer cuenta de dos errores \n",
    "def newton(x_0 , nmax , error_pedido , delta_seguro):\n",
    "    x,e = np.float(x_0),np.float(error_pedido)\n",
    "    fx = funcion(x) # se evalua el valor y se guarda en una variable\n",
    "    \n",
    "    lista = []\n",
    "    lista.append(x)\n",
    "    \n",
    "    for n in range(0,nmax):\n",
    "        \n",
    "        fp = deriv_funcion(x) # necesito la derivada para la iteracion\n",
    "        # aca evaluamos con la intencion de que no obtengamos un overflow . Ya que \"fp\" estara en el denominador\n",
    "        if abs(fp) < delta_seguro:\n",
    "            print(\"Pequeña derivada . puede ocurrir overflow . no es seguro hacer el metodo\")\n",
    "            return None\n",
    "        \n",
    "        d = fx/fp # parte de la ecuacion\n",
    "        x = x-fx/fp # recuerda que el metodo consiste en hacer  x = x-fx/fp\n",
    "        lista.append(x) \n",
    "        fx = funcion(x) # evaluamos en el nuevo x \n",
    "        \n",
    "        # esto es para medir la convergencia dx = fx/fp \n",
    "        if abs(d) < e :\n",
    "            print(f'El metodo converge a {x}')\n",
    "            break\n",
    "    \n",
    "    # comenzamos a hacer la lista de errores\n",
    "    lista_error = []\n",
    "    for i in range(1,len(lista)):\n",
    "        lista_error.append( abs( lista[i]-lista[i-1] )/ lista[i] *100 ) \n",
    "\n",
    "    # graficamos\n",
    "    fig2 = plt.plot(range(0,len(lista_error)) ,lista_error,'-*')\n",
    "    plt.title(\"Error en metodo de Newton\")\n",
    "    plt.xlabel('numero de iteracion (n)')\n",
    "    plt.ylabel('error')\n",
    "    plt.show()\n",
    "        \n",
    "    print(f'Numero de iteraciones fue : {len(lista_error)} y se obtuvo {x} como raiz')"
   ]
  },
  {
   "cell_type": "markdown",
   "metadata": {},
   "source": [
    "# Metodo de la secante "
   ]
  },
  {
   "cell_type": "code",
   "execution_count": 62,
   "metadata": {
    "scrolled": false
   },
   "outputs": [],
   "source": [
    "def secant(inf,sup,nmax,error_pedido):\n",
    "    \n",
    "    a,b,e = np.float64(inf),np.float64(sup),np.float64(error_pedido)\n",
    "    fa,fb = funcion(a),funcion(b)\n",
    "    lista = []\n",
    "    \n",
    "    for n in range(2,nmax+2):\n",
    "        \n",
    "        # Esto es necesario ya que vamos a pasar a b el valor de a luego . \n",
    "        # y debemos pasar el que su evalucion este mas cerca al cero \n",
    "        if abs(fa) > abs(fb):\n",
    "            a,b = b,a # con esto intercambio los valores de a y b (a es b y b es a)\n",
    "            fa,fb = fb,fa # de igual manera los intercambio\n",
    "        \n",
    "        # recuerda que x_n+1 = x_n - (x_n - x_n_1)/(f(x_n) f(x_n-1))*fx_n\n",
    "        # en este caso a = \"x_n\" y b = \"x_n-1\" \n",
    "        d = (a-b)/(fa-fb)\n",
    "        b = a \n",
    "        fb = fa\n",
    "        d = d*fa \n",
    "        \n",
    "        # comparamos con el error permitido\n",
    "        if abs(d) < e:\n",
    "            print(f'El metodo converge a {a}')\n",
    "            break\n",
    "        \n",
    "        a = a-d\n",
    "        lista.append(a)\n",
    "        fa = funcion(a)\n",
    "    \n",
    "    # comenzamos a hacer la lista de errores\n",
    "    lista_error = []\n",
    "    for i in range(1,len(lista)):\n",
    "        lista_error.append( abs( lista[i]-lista[i-1] )/ lista[i] *100 ) \n",
    "\n",
    "    # graficamos\n",
    "    fig2 = plt.plot(range(0,len(lista_error)) ,lista_error,'-*')\n",
    "    plt.title(\"Error en metodo de Secante\")\n",
    "    plt.xlabel('numero de iteracion (n)')\n",
    "    plt.ylabel('error')\n",
    "    plt.show()\n",
    "    \n",
    "    print(f'Numero de iteraciones fue : {len(lista_error)} y se obtuvo {a} como raiz')"
   ]
  },
  {
   "cell_type": "markdown",
   "metadata": {},
   "source": [
    "# main principal"
   ]
  },
  {
   "cell_type": "code",
   "execution_count": 82,
   "metadata": {
    "scrolled": false
   },
   "outputs": [
    {
     "name": "stdout",
     "output_type": "stream",
     "text": [
      "-------------------------------------------------- METODO DE INCREMENTAL --------------------------------------------------\n",
      "La raiz hallada con la busquda incremental es 4.9654999999995635\n",
      "-------------------------------------------------- METODO DE BISECCION --------------------------------------------------\n"
     ]
    },
    {
     "data": {
      "image/png": "[encoded data removed]",
      "text/plain": [
       "<Figure size 432x288 with 1 Axes>"
      ]
     },
     "metadata": {
      "needs_background": "light"
     },
     "output_type": "display_data"
    },
    {
     "name": "stdout",
     "output_type": "stream",
     "text": [
      "Numero de iteraciones fue : 25 y se obtuvo 4.965114176273346 como raiz\n",
      "-------------------------------------------------- METODO DE FALSA POSICIÓN --------------------------------------------------\n"
     ]
    },
    {
     "data": {
      "image/png": "[encoded data removed]",
      "text/plain": [
       "<Figure size 432x288 with 1 Axes>"
      ]
     },
     "metadata": {
      "needs_background": "light"
     },
     "output_type": "display_data"
    },
    {
     "name": "stdout",
     "output_type": "stream",
     "text": [
      "Numero de iteraciones fue : 4 y se obtuvo 4.965114231744272 como raiz\n",
      "-------------------------------------------------- METODO DE PUNTO FIJO --------------------------------------------------\n"
     ]
    },
    {
     "data": {
      "image/png": "[encoded data removed]",
      "text/plain": [
       "<Figure size 432x288 with 1 Axes>"
      ]
     },
     "metadata": {
      "needs_background": "light"
     },
     "output_type": "display_data"
    },
    {
     "name": "stdout",
     "output_type": "stream",
     "text": [
      "Numero de iteraciones fue : 10 y se obtuvo 4.965114231744275 como raiz\n",
      "-------------------------------------------------- METODO DE NEWTON --------------------------------------------------\n",
      "El metodo converge a 4.965114231744276\n"
     ]
    },
    {
     "data": {
      "image/png": "[encoded data removed]",
      "text/plain": [
       "<Figure size 432x288 with 1 Axes>"
      ]
     },
     "metadata": {
      "needs_background": "light"
     },
     "output_type": "display_data"
    },
    {
     "name": "stdout",
     "output_type": "stream",
     "text": [
      "Numero de iteraciones fue : 4 y se obtuvo 4.965114231744276 como raiz\n",
      "-------------------------------------------------- METODO DE SECANTE --------------------------------------------------\n",
      "El metodo converge a 4.965114231723717\n"
     ]
    },
    {
     "data": {
      "image/png": "[encoded data removed]",
      "text/plain": [
       "<Figure size 432x288 with 1 Axes>"
      ]
     },
     "metadata": {
      "needs_background": "light"
     },
     "output_type": "display_data"
    },
    {
     "name": "stdout",
     "output_type": "stream",
     "text": [
      "Numero de iteraciones fue : 4 y se obtuvo 4.965114231723717 como raiz\n"
     ]
    }
   ],
   "source": [
    "print(\"-\"*50,\"METODO DE INCREMENTAL\",\"-\"*50)\n",
    "# pongo 3 para no demorar en la ejecucion \n",
    "busqueda_incremental(1,5,10**(-3)) # para obtener una mejor precision ,modificar esto\n",
    "print(\"-\"*50,\"METODO DE BISECCION\",\"-\"*50)\n",
    "biseccion(1,5,26,10**(-8))\n",
    "print(\"-\"*50,\"METODO DE FALSA POSICIÓN\",\"-\"*50)\n",
    "falsa_posicion(1,5,5,10**(-6)) # este converge mucho mas rapido \n",
    "print(\"-\"*50,\"METODO DE PUNTO FIJO\",\"-\"*50)\n",
    "punto_fijo(4.7,10)\n",
    "print(\"-\"*50,\"METODO DE NEWTON\",\"-\"*50)\n",
    "newton(7,20,10**(-6),10**(-7))\n",
    "print(\"-\"*50,\"METODO DE SECANTE\",\"-\"*50)\n",
    "secant(2,3,10,10**(-6))"
   ]
  }
 ],
 "metadata": {
  "kernelspec": {
   "display_name": "Python 3",
   "language": "python",
   "name": "python3"
  },
  "language_info": {
   "codemirror_mode": {
    "name": "ipython",
    "version": 3
   },
   "file_extension": ".py",
   "mimetype": "text/x-python",
   "name": "python",
   "nbconvert_exporter": "python",
   "pygments_lexer": "ipython3",
   "version": "3.7.6"
  }
 },
 "nbformat": 4,
 "nbformat_minor": 4
}
