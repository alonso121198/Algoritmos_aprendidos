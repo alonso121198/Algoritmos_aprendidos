{
 "cells": [
  {
   "cell_type": "markdown",
   "metadata": {},
   "source": [
    "# Curso practico de Algoritmos de Regresión con Python"
   ]
  },
  {
   "cell_type": "markdown",
   "metadata": {},
   "source": [
    "# introduccion \n",
    "- El curso es con Ricardo Celis\n",
    "- Como funciona un algoritmo desde el punto Matematico(cuestion de estadistica).\n",
    "\n",
    "# Regresion Lineal y Machine Learning\n",
    "- Nos vamos a enfocar en el modelo Machine learning , de que podamos entrenarlo y en que este pueda aprender .\n",
    "\n",
    "# Explicación Matematica de la Regresion Lineal\n",
    "- Un termino estadistico . Un modelo matematico que nos va a ayudar a establecer o encontrar la relacion entre una variable dependiente y las variables independientes que tenga un modelo . "
   ]
  },
  {
   "cell_type": "markdown",
   "metadata": {},
   "source": [
    "# Llevando Nuestro Algoritmo a Python"
   ]
  },
  {
   "cell_type": "code",
   "execution_count": 1,
   "metadata": {},
   "outputs": [],
   "source": [
    "# vamos a usar las sumas riemman y de promedios asi que usamos numpy \n",
    "import numpy as  np \n",
    "import matplotlib.pyplot as plt # vamos a graficar la linea de regresion en codigo"
   ]
  },
  {
   "cell_type": "markdown",
   "metadata": {},
   "source": [
    "# Definimos funcion que lee dos vectores y retorna los coeficientes de la regresion"
   ]
  },
  {
   "cell_type": "code",
   "execution_count": 6,
   "metadata": {},
   "outputs": [],
   "source": [
    "# siempre se usa \"n\" para saber la cantidad o numero de datos en nuestro array \n",
    "def estimate_b0_b1(x,y):\n",
    "    n = np.size(x) # cuenta el tamaño de x \n",
    "    # obtenemos promedios de x y y (x y y son vectores)\n",
    "    m_x, m_y = np.mean(x), np.mean(y) \n",
    "    \n",
    "    # calcular sumatoria de XY y mi sumatoria de XX\n",
    "    # np.sum va a recorrer nuestro vector y va sumar los datos que tenemos alli\n",
    "    Sumatoria_xy = np.sum((x-m_x)*(y-m_y))\n",
    "    Sumatoria_xx = np.sum(x*(x-m_x)) # esto es igual a np.sum( (x-m_x)**2 )\n",
    "    \n",
    "    # coeficientes de regresion\n",
    "    b_1 = Sumatoria_xy / Sumatoria_xx  \n",
    "    b_0 = m_y - b_1*m_x \n",
    "    \n",
    "    return(b_0,b_1) # retorna los dos valores"
   ]
  },
  {
   "cell_type": "markdown",
   "metadata": {},
   "source": [
    "# vamos a definir nuestra funcion que nos va permitir graficar nuestra linea de regresion."
   ]
  },
  {
   "cell_type": "code",
   "execution_count": 4,
   "metadata": {},
   "outputs": [],
   "source": [
    "# b viene de b_1 y b_0\n",
    "def plot_regression(x,y, b):\n",
    "    plt.scatter(x, y, color =\"g\", marker = \"o\", s=30) #color green ,marcadores de tipo o(un punto) , s aun nose\n",
    "    # aca acabamo de describir nuestra formula de nuestra linea de regresion\n",
    "    y_pred = b[0] + b[1]*x #vector de respuestas o predicciones\n",
    "    plt.plot(x,y_pred, color = \"b\") # graficara \n",
    "    \n",
    "    #etiquetado \n",
    "    plt.xlabel('x-Independiente')\n",
    "    plt.ylabel('y-Dependiente')\n",
    "    \n",
    "    plt.show() # para dibujar la grafica"
   ]
  },
  {
   "cell_type": "markdown",
   "metadata": {},
   "source": [
    "# Escribimos el codigo main "
   ]
  },
  {
   "cell_type": "code",
   "execution_count": 8,
   "metadata": {},
   "outputs": [
    {
     "name": "stdout",
     "output_type": "stream",
     "text": [
      "Los valores b0 = 1.5, b1 = 0.9\n"
     ]
    },
    {
     "data": {
      "image/png": "[encoded data removed]",
      "text/plain": [
       "<Figure size 432x288 with 1 Axes>"
      ]
     },
     "metadata": {
      "needs_background": "light"
     },
     "output_type": "display_data"
    }
   ],
   "source": [
    "#Codifo MAIN\n",
    "def main(): \n",
    "    # DATASET(ejemplo)\n",
    "    x = np.array([1,2,3,4,5])\n",
    "    y = np.array([2,3,5,6,5])\n",
    "    \n",
    "    # Obtenemos b1 y b2\n",
    "    b = estimate_b0_b1(x,y)\n",
    "    print(\"Los valores b0 = {}, b1 = {}\".format(b[0], b[1])) #calcula los coeficientes\n",
    "    \n",
    "    #graficamos nuestra linea de regresion\n",
    "    plot_regression(x,y,b)\n",
    "    \n",
    "if __name__ == \"__main__\":\n",
    "    main()\n",
    "    "
   ]
  },
  {
   "cell_type": "markdown",
   "metadata": {},
   "source": [
    "# Preguntas a resolver \n",
    "\n",
    "**La regresion lineal es:**\n",
    "**¿A qué rama de las matematicas pertenece la regresion lineal?**\n",
    "**¿Para qué nos sirve el metodo de minimos cuadrados?**\n",
    "**¿En qué área de las matemáticas aprendemos a despejar ecuaciones?**\n",
    "**¿Con base en qué podemos hacer predicciones en papel?**\n",
    "**¿cuál es la funcion de numpy en nuestro proyecto?**\n",
    "**¿Para qué utilizamos el comando\"plot_regression\" de matplotlib?**\n",
    "**¿Cómo podemos comprobar que nuestra implementación quedó bien?**"
   ]
  }
 ],
 "metadata": {
  "kernelspec": {
   "display_name": "Python 3",
   "language": "python",
   "name": "python3"
  },
  "language_info": {
   "codemirror_mode": {
    "name": "ipython",
    "version": 3
   },
   "file_extension": ".py",
   "mimetype": "text/x-python",
   "name": "python",
   "nbconvert_exporter": "python",
   "pygments_lexer": "ipython3",
   "version": "3.7.3"
  }
 },
 "nbformat": 4,
 "nbformat_minor": 2
}
